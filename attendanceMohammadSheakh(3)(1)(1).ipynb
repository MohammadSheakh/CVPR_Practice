{
  "nbformat": 4,
  "nbformat_minor": 0,
  "metadata": {
    "colab": {
      "provenance": [],
      "gpuType": "T4"
    },
    "kernelspec": {
      "name": "python3",
      "display_name": "Python 3"
    },
    "language_info": {
      "name": "python"
    },
    "accelerator": "GPU"
  },
  "cells": [
    {
      "cell_type": "markdown",
      "source": [
        "```\n",
        "// logic of https://www.youtube.com/watch?v=A6464U4bPPQ\n",
        "// Facial Recognition attendance system using python\n",
        "\n",
        "// camera module\n",
        "camera module take input ...\n",
        "python check\n",
        "if (human face in the frame //// or not){\n",
        "  compare face with the face from database\n",
        "\n",
        "  if(present){\n",
        "    // update in csv file\n",
        "    // name of the student and time of entry of the student\n",
        "\n",
        "    ///// next kaj hocche entry er pore 30 second er moddhe jodi same face dekhano hoy .. taile bolbe already counted ..\n",
        "\n",
        "    //// and 30 second pore jodi abar same face count hoy .. taile ek din er  present complete hobe or something !\n",
        "  }\n",
        "\n",
        "}else {\n",
        "  // or not\n",
        "\n",
        "}\n",
        "```"
      ],
      "metadata": {
        "id": "UGXM5rzA7JIh"
      }
    },
    {
      "cell_type": "code",
      "source": [
        "from google.colab import drive\n",
        "#drive.mount('/content/drive')\n",
        "drive.mount(\"/content/drive\", force_remount=True)"
      ],
      "metadata": {
        "id": "acy6oLZSrsq8",
        "colab": {
          "base_uri": "https://localhost:8080/"
        },
        "outputId": "5a7b6489-1685-402f-ee63-987c95189e6c"
      },
      "execution_count": null,
      "outputs": [
        {
          "output_type": "stream",
          "name": "stdout",
          "text": [
            "Mounted at /content/drive\n"
          ]
        }
      ]
    },
    {
      "cell_type": "code",
      "execution_count": null,
      "metadata": {
        "id": "q8p9O1pImX0H",
        "colab": {
          "base_uri": "https://localhost:8080/"
        },
        "outputId": "bba46f89-5910-4f65-8bb7-1b465c07ee22"
      },
      "outputs": [
        {
          "output_type": "stream",
          "name": "stdout",
          "text": [
            "Collecting face_recognition\n",
            "  Downloading face_recognition-1.3.0-py2.py3-none-any.whl (15 kB)\n",
            "Collecting face-recognition-models>=0.3.0 (from face_recognition)\n",
            "  Downloading face_recognition_models-0.3.0.tar.gz (100.1 MB)\n",
            "\u001b[2K     \u001b[90m━━━━━━━━━━━━━━━━━━━━━━━━━━━━━━━━━━━━━━━━\u001b[0m \u001b[32m100.1/100.1 MB\u001b[0m \u001b[31m8.7 MB/s\u001b[0m eta \u001b[36m0:00:00\u001b[0m\n",
            "\u001b[?25h  Preparing metadata (setup.py) ... \u001b[?25l\u001b[?25hdone\n",
            "Requirement already satisfied: Click>=6.0 in /usr/local/lib/python3.10/dist-packages (from face_recognition) (8.1.7)\n",
            "Requirement already satisfied: dlib>=19.7 in /usr/local/lib/python3.10/dist-packages (from face_recognition) (19.24.2)\n",
            "Requirement already satisfied: numpy in /usr/local/lib/python3.10/dist-packages (from face_recognition) (1.25.2)\n",
            "Requirement already satisfied: Pillow in /usr/local/lib/python3.10/dist-packages (from face_recognition) (9.4.0)\n",
            "Building wheels for collected packages: face-recognition-models\n",
            "  Building wheel for face-recognition-models (setup.py) ... \u001b[?25l\u001b[?25hdone\n",
            "  Created wheel for face-recognition-models: filename=face_recognition_models-0.3.0-py2.py3-none-any.whl size=100566170 sha256=e2fb0bf0977b86d2c5080e2f2ca3d40944ad97e510a2455285643a26acf0e5a7\n",
            "  Stored in directory: /root/.cache/pip/wheels/7a/eb/cf/e9eced74122b679557f597bb7c8e4c739cfcac526db1fd523d\n",
            "Successfully built face-recognition-models\n",
            "Installing collected packages: face-recognition-models, face_recognition\n",
            "Successfully installed face-recognition-models-0.3.0 face_recognition-1.3.0\n"
          ]
        }
      ],
      "source": [
        "!pip install face_recognition"
      ]
    },
    {
      "cell_type": "code",
      "source": [
        "\n",
        "!pip install opencv-python\n",
        "# import opencv-python\n",
        "# ----------------------------- from yt video www.youtube.com/watch?v=A6464U4bPPQ\n",
        "import face_recognition as fr\n",
        "import os\n",
        "import cv2 # take input from the webcam, process it , give it to face ignition ..\n",
        "#compare faces\n",
        "\n",
        "import csv # handle csv file\n",
        "import numpy as np\n",
        "\n",
        "from datetime import datetime\n",
        "#----------------------------- from debajyotikarmaker sir lecture\n",
        "import tensorflow as tf\n",
        "import matplotlib.pyplot as plt\n",
        "import random\n",
        "from tqdm import tqdm\n"
      ],
      "metadata": {
        "id": "l8XlwjTJ98_N",
        "colab": {
          "base_uri": "https://localhost:8080/"
        },
        "outputId": "2651191b-c955-48e2-c715-4caa362127d9"
      },
      "execution_count": null,
      "outputs": [
        {
          "output_type": "stream",
          "name": "stdout",
          "text": [
            "Requirement already satisfied: opencv-python in /usr/local/lib/python3.10/dist-packages (4.8.0.76)\n",
            "Requirement already satisfied: numpy>=1.21.2 in /usr/local/lib/python3.10/dist-packages (from opencv-python) (1.25.2)\n"
          ]
        }
      ]
    },
    {
      "cell_type": "markdown",
      "source": [
        "# 1. take input from the webcam - YT Video"
      ],
      "metadata": {
        "id": "z9vJ962GKZWM"
      }
    },
    {
      "cell_type": "code",
      "source": [
        "video_capture = cv2.VideoCapture(0); #0 as default web cam"
      ],
      "metadata": {
        "id": "VnzURL9yKa3R"
      },
      "execution_count": null,
      "outputs": []
    },
    {
      "cell_type": "code",
      "source": [
        "\"\"\"\n",
        "#image and corresponding encoding ...\n",
        "#make an array of known face encoding ... came from db\n",
        "known_face_encoding=[]\n",
        "\n",
        "#make an array of known face names ... came from db\n",
        "known_face_names=[]\n",
        "\n",
        "face_locations = [] # face in webcame .. face co-ordinates\n",
        "face_encodings = [] # the raw data\n",
        "face_names = [] # the name of the face it is present in database\n",
        "s = true\n",
        "\"\"\""
      ],
      "metadata": {
        "id": "zfoi5ltHWsTh"
      },
      "execution_count": null,
      "outputs": []
    },
    {
      "cell_type": "markdown",
      "source": [
        "# 2. Load All Image from DB - Sir"
      ],
      "metadata": {
        "id": "XRIUYATQLsOR"
      }
    },
    {
      "cell_type": "code",
      "source": [
        "#Data_Path = '/content/drive/MyDrive/CVPR Mohammad Sheakh Image/'\n",
        "Data_Path = '/content/drive/MyDrive/ImageData'\n",
        "classes = os.listdir(Data_Path) # return list of folder\n",
        "print(classes)  # in this case it returns all my image\n",
        "#----------------------------------------------------------------\n",
        "train_data = []\n",
        "for label, classes in enumerate(classes) :\n",
        "  print(f\"label, classes :: {label} , { classes}\")\n",
        "  path = os.path.join(Data_Path, classes)\n",
        "  print(f\"path ::  { path}\")\n",
        "\n",
        "  for singleImage in tqdm(os.listdir(path)):\n",
        "    print(f\"Single Image😀 :: 😀 {singleImage}\") #  which will print image name\n",
        "    # plt.imshow(singleImage) #😭\n",
        "    img_arr = cv2.imread(os.path.join(path, singleImage)) # numpy array\n",
        "    # plt.imshow(img_arr) # 😀 eta kaj kore .. image show kore\n",
        "    img_arr = cv2.resize(img_arr, (128, 128)) # shob gula ke ek size e ante hobe ...\n",
        "    #train_data.append(img_arr)\n",
        "    # ----------- we need label also /// numeric value\n",
        "    train_data.append([img_arr, label]) # image er shathe label o rakhtesi\n",
        "\n",
        "    #break\n",
        " #break\n",
        "print(f\"Length of train_data :: {len(train_data)}\") # ------------------ this line is working 😀😀😀😀😀😀\n",
        "\n"
      ],
      "metadata": {
        "colab": {
          "base_uri": "https://localhost:8080/"
        },
        "id": "J7GjdjWzLyHb",
        "outputId": "f5bfbfa1-3f39-45c4-c67a-bc0f68e8b83d"
      },
      "execution_count": null,
      "outputs": [
        {
          "output_type": "stream",
          "name": "stdout",
          "text": [
            "['FAHIM RAHMAN', 'MD ABU ZAYED KHAN', 'MD NAIMUR RAHMAN', 'FAIZA BINTE ZAMAN', 'AHMED IMTIAZ', 'MD MUNTASIR AREFIN NAEEM', 'MD ATIK ULLAH KHAN', 'MD IMTIAJ ALAM SAJIN', 'ESM-E MOULA CHOWDHURY ABHA', 'MD JAHID HASSAN', 'NAHAR ISLAM NISHI', 'MD WAHIDUZZAMAN SUVA', 'MOHAMMAD NUR', 'MOHAMMAD BIN AB JALIL SHEAKH', 'MOHAMMED TANVIR HASSAN', 'MD SAJID ISLAM KHAN', 'REZWAN AHMAD', 'SYEDA HUMAIRA JABEEN', 'NAVID MAHFUZ NAYEEM', 'S M FAISAL']\n",
            "label, classes :: 0 , FAHIM RAHMAN\n",
            "path ::  /content/drive/MyDrive/ImageData/FAHIM RAHMAN\n"
          ]
        },
        {
          "output_type": "stream",
          "name": "stderr",
          "text": [
            "\r  0%|          | 0/10 [00:00<?, ?it/s]"
          ]
        },
        {
          "output_type": "stream",
          "name": "stdout",
          "text": [
            "Single Image😀 :: 😀 IMG_20240223_144918.jpg\n"
          ]
        },
        {
          "output_type": "stream",
          "name": "stderr",
          "text": [
            "\r 10%|█         | 1/10 [00:00<00:05,  1.68it/s]"
          ]
        },
        {
          "output_type": "stream",
          "name": "stdout",
          "text": [
            "Single Image😀 :: 😀 IMG_20240222_174228.jpg\n"
          ]
        },
        {
          "output_type": "stream",
          "name": "stderr",
          "text": [
            "\r 20%|██        | 2/10 [00:01<00:05,  1.35it/s]"
          ]
        },
        {
          "output_type": "stream",
          "name": "stdout",
          "text": [
            "Single Image😀 :: 😀 IMG_20231225_193021.jpg\n"
          ]
        },
        {
          "output_type": "stream",
          "name": "stderr",
          "text": [
            "\r 30%|███       | 3/10 [00:02<00:06,  1.11it/s]"
          ]
        },
        {
          "output_type": "stream",
          "name": "stdout",
          "text": [
            "Single Image😀 :: 😀 IMG_20240224_193659.jpg\n"
          ]
        },
        {
          "output_type": "stream",
          "name": "stderr",
          "text": [
            "\r 40%|████      | 4/10 [00:03<00:04,  1.27it/s]"
          ]
        },
        {
          "output_type": "stream",
          "name": "stdout",
          "text": [
            "Single Image😀 :: 😀 IMG_20240229_113742.jpg\n"
          ]
        },
        {
          "output_type": "stream",
          "name": "stderr",
          "text": [
            "\r 50%|█████     | 5/10 [00:03<00:03,  1.35it/s]"
          ]
        },
        {
          "output_type": "stream",
          "name": "stdout",
          "text": [
            "Single Image😀 :: 😀 IMG_20240227_121450.jpg\n"
          ]
        },
        {
          "output_type": "stream",
          "name": "stderr",
          "text": [
            "\r 60%|██████    | 6/10 [00:04<00:02,  1.50it/s]"
          ]
        },
        {
          "output_type": "stream",
          "name": "stdout",
          "text": [
            "Single Image😀 :: 😀 IMG_20240227_121408.jpg\n"
          ]
        },
        {
          "output_type": "stream",
          "name": "stderr",
          "text": [
            "\r 70%|███████   | 7/10 [00:05<00:02,  1.36it/s]"
          ]
        },
        {
          "output_type": "stream",
          "name": "stdout",
          "text": [
            "Single Image😀 :: 😀 IMG_20240225_103232.jpg\n"
          ]
        },
        {
          "output_type": "stream",
          "name": "stderr",
          "text": [
            "\r 80%|████████  | 8/10 [00:05<00:01,  1.41it/s]"
          ]
        },
        {
          "output_type": "stream",
          "name": "stdout",
          "text": [
            "Single Image😀 :: 😀 IMG_20240131_221809.jpg\n"
          ]
        },
        {
          "output_type": "stream",
          "name": "stderr",
          "text": [
            "\r 90%|█████████ | 9/10 [00:06<00:00,  1.38it/s]"
          ]
        },
        {
          "output_type": "stream",
          "name": "stdout",
          "text": [
            "Single Image😀 :: 😀 IMG_20240204_205230.jpg\n"
          ]
        },
        {
          "output_type": "stream",
          "name": "stderr",
          "text": [
            "100%|██████████| 10/10 [00:07<00:00,  1.41it/s]\n"
          ]
        },
        {
          "output_type": "stream",
          "name": "stdout",
          "text": [
            "label, classes :: 1 , MD ABU ZAYED KHAN\n",
            "path ::  /content/drive/MyDrive/ImageData/MD ABU ZAYED KHAN\n"
          ]
        },
        {
          "output_type": "stream",
          "name": "stderr",
          "text": [
            "\r  0%|          | 0/10 [00:00<?, ?it/s]"
          ]
        },
        {
          "output_type": "stream",
          "name": "stdout",
          "text": [
            "Single Image😀 :: 😀 a02701b2-a374-42d9-92eb-1cdc8bc2fa0b.jpg\n"
          ]
        },
        {
          "output_type": "stream",
          "name": "stderr",
          "text": [
            "\r 10%|█         | 1/10 [00:00<00:02,  3.80it/s]"
          ]
        },
        {
          "output_type": "stream",
          "name": "stdout",
          "text": [
            "Single Image😀 :: 😀 IMG_9923 (1).PNG\n"
          ]
        },
        {
          "output_type": "stream",
          "name": "stderr",
          "text": [
            "\r 20%|██        | 2/10 [00:01<00:05,  1.35it/s]"
          ]
        },
        {
          "output_type": "stream",
          "name": "stdout",
          "text": [
            "Single Image😀 :: 😀 IMG_0737 (1).JPG\n"
          ]
        },
        {
          "output_type": "stream",
          "name": "stderr",
          "text": [
            "\r 30%|███       | 3/10 [00:01<00:04,  1.55it/s]"
          ]
        },
        {
          "output_type": "stream",
          "name": "stdout",
          "text": [
            "Single Image😀 :: 😀 a02701b2-a374-42d9-92eb-1cdc8bc2fa0b (1).jpg\n"
          ]
        },
        {
          "output_type": "stream",
          "name": "stderr",
          "text": [
            "\r 40%|████      | 4/10 [00:02<00:02,  2.03it/s]"
          ]
        },
        {
          "output_type": "stream",
          "name": "stdout",
          "text": [
            "Single Image😀 :: 😀 IMG_0737.JPG\n"
          ]
        },
        {
          "output_type": "stream",
          "name": "stderr",
          "text": [
            "\r 50%|█████     | 5/10 [00:02<00:02,  2.19it/s]"
          ]
        },
        {
          "output_type": "stream",
          "name": "stdout",
          "text": [
            "Single Image😀 :: 😀 CB46324E-2797-4F05-98F4-2D9F3F75C34F.jpeg\n"
          ]
        },
        {
          "output_type": "stream",
          "name": "stderr",
          "text": [
            "\r 60%|██████    | 6/10 [00:03<00:03,  1.30it/s]"
          ]
        },
        {
          "output_type": "stream",
          "name": "stdout",
          "text": [
            "Single Image😀 :: 😀 IMG_0373.JPG\n"
          ]
        },
        {
          "output_type": "stream",
          "name": "stderr",
          "text": [
            "\r 70%|███████   | 7/10 [00:04<00:02,  1.44it/s]"
          ]
        },
        {
          "output_type": "stream",
          "name": "stdout",
          "text": [
            "Single Image😀 :: 😀 IMG_0373 (1).JPG\n"
          ]
        },
        {
          "output_type": "stream",
          "name": "stderr",
          "text": [
            "\r 80%|████████  | 8/10 [00:05<00:01,  1.45it/s]"
          ]
        },
        {
          "output_type": "stream",
          "name": "stdout",
          "text": [
            "Single Image😀 :: 😀 IMG_9923.PNG\n"
          ]
        },
        {
          "output_type": "stream",
          "name": "stderr",
          "text": [
            "\r 90%|█████████ | 9/10 [00:05<00:00,  1.39it/s]"
          ]
        },
        {
          "output_type": "stream",
          "name": "stdout",
          "text": [
            "Single Image😀 :: 😀 CB46324E-2797-4F05-98F4-2D9F3F75C34F (1).jpeg\n"
          ]
        },
        {
          "output_type": "stream",
          "name": "stderr",
          "text": [
            "100%|██████████| 10/10 [00:07<00:00,  1.42it/s]\n"
          ]
        },
        {
          "output_type": "stream",
          "name": "stdout",
          "text": [
            "label, classes :: 2 , MD NAIMUR RAHMAN\n",
            "path ::  /content/drive/MyDrive/ImageData/MD NAIMUR RAHMAN\n"
          ]
        },
        {
          "output_type": "stream",
          "name": "stderr",
          "text": [
            "\r  0%|          | 0/10 [00:00<?, ?it/s]"
          ]
        },
        {
          "output_type": "stream",
          "name": "stdout",
          "text": [
            "Single Image😀 :: 😀 IMG-20221226-WA0024.jpg\n"
          ]
        },
        {
          "output_type": "stream",
          "name": "stderr",
          "text": [
            "\r 10%|█         | 1/10 [00:00<00:04,  1.95it/s]"
          ]
        },
        {
          "output_type": "stream",
          "name": "stdout",
          "text": [
            "Single Image😀 :: 😀 IMG_20240229_193158.jpg\n"
          ]
        },
        {
          "output_type": "stream",
          "name": "stderr",
          "text": [
            "\r 20%|██        | 2/10 [00:01<00:08,  1.02s/it]"
          ]
        },
        {
          "output_type": "stream",
          "name": "stdout",
          "text": [
            "Single Image😀 :: 😀 IMG_20240114_233055_601.jpg\n"
          ]
        },
        {
          "output_type": "stream",
          "name": "stderr",
          "text": [
            "\r 30%|███       | 3/10 [00:02<00:04,  1.47it/s]"
          ]
        },
        {
          "output_type": "stream",
          "name": "stdout",
          "text": [
            "Single Image😀 :: 😀 IMG_20240220_075235.jpg\n"
          ]
        },
        {
          "output_type": "stream",
          "name": "stderr",
          "text": [
            "\r 40%|████      | 4/10 [00:03<00:05,  1.09it/s]"
          ]
        },
        {
          "output_type": "stream",
          "name": "stdout",
          "text": [
            "Single Image😀 :: 😀 IMG20221006103105.jpg\n"
          ]
        },
        {
          "output_type": "stream",
          "name": "stderr",
          "text": [
            "\r 50%|█████     | 5/10 [00:04<00:04,  1.02it/s]"
          ]
        },
        {
          "output_type": "stream",
          "name": "stdout",
          "text": [
            "Single Image😀 :: 😀 IMG_20230714_124049.jpg\n"
          ]
        },
        {
          "output_type": "stream",
          "name": "stderr",
          "text": [
            "\r 60%|██████    | 6/10 [00:05<00:04,  1.04s/it]"
          ]
        },
        {
          "output_type": "stream",
          "name": "stdout",
          "text": [
            "Single Image😀 :: 😀 IMG_20240114_233103_379.jpg\n"
          ]
        },
        {
          "output_type": "stream",
          "name": "stderr",
          "text": [
            "\r 70%|███████   | 7/10 [00:06<00:02,  1.25it/s]"
          ]
        },
        {
          "output_type": "stream",
          "name": "stdout",
          "text": [
            "Single Image😀 :: 😀 IMG_20240203_224902.jpg\n"
          ]
        },
        {
          "output_type": "stream",
          "name": "stderr",
          "text": [
            "\r 80%|████████  | 8/10 [00:06<00:01,  1.19it/s]"
          ]
        },
        {
          "output_type": "stream",
          "name": "stdout",
          "text": [
            "Single Image😀 :: 😀 IMG_20240227_184155.jpg\n"
          ]
        },
        {
          "output_type": "stream",
          "name": "stderr",
          "text": [
            "100%|██████████| 10/10 [00:08<00:00,  1.22it/s]\n"
          ]
        },
        {
          "output_type": "stream",
          "name": "stdout",
          "text": [
            "Single Image😀 :: 😀 IMG_20240114_233030_631.jpg\n",
            "label, classes :: 3 , FAIZA BINTE ZAMAN\n",
            "path ::  /content/drive/MyDrive/ImageData/FAIZA BINTE ZAMAN\n"
          ]
        },
        {
          "output_type": "stream",
          "name": "stderr",
          "text": [
            "\r  0%|          | 0/10 [00:00<?, ?it/s]"
          ]
        },
        {
          "output_type": "stream",
          "name": "stdout",
          "text": [
            "Single Image😀 :: 😀 7.jpg\n"
          ]
        },
        {
          "output_type": "stream",
          "name": "stderr",
          "text": [
            "\r 10%|█         | 1/10 [00:00<00:01,  5.97it/s]"
          ]
        },
        {
          "output_type": "stream",
          "name": "stdout",
          "text": [
            "Single Image😀 :: 😀 1.jpg\n"
          ]
        },
        {
          "output_type": "stream",
          "name": "stderr",
          "text": [
            "\r 20%|██        | 2/10 [00:00<00:03,  2.52it/s]"
          ]
        },
        {
          "output_type": "stream",
          "name": "stdout",
          "text": [
            "Single Image😀 :: 😀 9.jpg\n"
          ]
        },
        {
          "output_type": "stream",
          "name": "stderr",
          "text": [
            "\r 30%|███       | 3/10 [00:00<00:02,  3.15it/s]"
          ]
        },
        {
          "output_type": "stream",
          "name": "stdout",
          "text": [
            "Single Image😀 :: 😀 8.jpg\n"
          ]
        },
        {
          "output_type": "stream",
          "name": "stderr",
          "text": [
            " 50%|█████     | 5/10 [00:01<00:01,  3.63it/s]"
          ]
        },
        {
          "output_type": "stream",
          "name": "stdout",
          "text": [
            "Single Image😀 :: 😀 4.jpg\n",
            "Single Image😀 :: 😀 5.jpg\n"
          ]
        },
        {
          "output_type": "stream",
          "name": "stderr",
          "text": [
            "\r 60%|██████    | 6/10 [00:02<00:01,  2.69it/s]"
          ]
        },
        {
          "output_type": "stream",
          "name": "stdout",
          "text": [
            "Single Image😀 :: 😀 2.jpg\n"
          ]
        },
        {
          "output_type": "stream",
          "name": "stderr",
          "text": [
            "\r 70%|███████   | 7/10 [00:02<00:01,  2.74it/s]"
          ]
        },
        {
          "output_type": "stream",
          "name": "stdout",
          "text": [
            "Single Image😀 :: 😀 6.jpg\n"
          ]
        },
        {
          "output_type": "stream",
          "name": "stderr",
          "text": [
            "\r 80%|████████  | 8/10 [00:02<00:00,  3.13it/s]"
          ]
        },
        {
          "output_type": "stream",
          "name": "stdout",
          "text": [
            "Single Image😀 :: 😀 3.jpg\n"
          ]
        },
        {
          "output_type": "stream",
          "name": "stderr",
          "text": [
            "\r 90%|█████████ | 9/10 [00:03<00:00,  2.67it/s]"
          ]
        },
        {
          "output_type": "stream",
          "name": "stdout",
          "text": [
            "Single Image😀 :: 😀 10.jpg\n"
          ]
        },
        {
          "output_type": "stream",
          "name": "stderr",
          "text": [
            "100%|██████████| 10/10 [00:03<00:00,  2.90it/s]\n"
          ]
        },
        {
          "output_type": "stream",
          "name": "stdout",
          "text": [
            "label, classes :: 4 , AHMED IMTIAZ\n",
            "path ::  /content/drive/MyDrive/ImageData/AHMED IMTIAZ\n"
          ]
        },
        {
          "output_type": "stream",
          "name": "stderr",
          "text": [
            "\r  0%|          | 0/10 [00:00<?, ?it/s]"
          ]
        },
        {
          "output_type": "stream",
          "name": "stdout",
          "text": [
            "Single Image😀 :: 😀 20230210_131638.jpg\n"
          ]
        },
        {
          "output_type": "stream",
          "name": "stderr",
          "text": [
            "\r 10%|█         | 1/10 [00:00<00:03,  2.32it/s]"
          ]
        },
        {
          "output_type": "stream",
          "name": "stdout",
          "text": [
            "Single Image😀 :: 😀 20231221_003902.jpg\n"
          ]
        },
        {
          "output_type": "stream",
          "name": "stderr",
          "text": [
            "\r 20%|██        | 2/10 [00:00<00:02,  3.17it/s]"
          ]
        },
        {
          "output_type": "stream",
          "name": "stdout",
          "text": [
            "Single Image😀 :: 😀 20210902_124624-removebg-preview (1).png\n"
          ]
        },
        {
          "output_type": "stream",
          "name": "stderr",
          "text": [
            " 40%|████      | 4/10 [00:01<00:01,  3.66it/s]"
          ]
        },
        {
          "output_type": "stream",
          "name": "stdout",
          "text": [
            "Single Image😀 :: 😀 20220308_213811.jpg\n",
            "Single Image😀 :: 😀 IMG-20221205-WA0001.jpg\n"
          ]
        },
        {
          "output_type": "stream",
          "name": "stderr",
          "text": [
            "\r 50%|█████     | 5/10 [00:01<00:01,  4.38it/s]"
          ]
        },
        {
          "output_type": "stream",
          "name": "stdout",
          "text": [
            "Single Image😀 :: 😀 20220503_140745.jpg\n"
          ]
        },
        {
          "output_type": "stream",
          "name": "stderr",
          "text": [
            "\r 60%|██████    | 6/10 [00:01<00:00,  4.17it/s]"
          ]
        },
        {
          "output_type": "stream",
          "name": "stdout",
          "text": [
            "Single Image😀 :: 😀 Screenshot_20240301_013246_Gallery.jpg\n"
          ]
        },
        {
          "output_type": "stream",
          "name": "stderr",
          "text": [
            "\r 70%|███████   | 7/10 [00:01<00:00,  3.70it/s]"
          ]
        },
        {
          "output_type": "stream",
          "name": "stdout",
          "text": [
            "Single Image😀 :: 😀 20220713_183853.jpg\n"
          ]
        },
        {
          "output_type": "stream",
          "name": "stderr",
          "text": [
            "\r 80%|████████  | 8/10 [00:02<00:00,  3.32it/s]"
          ]
        },
        {
          "output_type": "stream",
          "name": "stdout",
          "text": [
            "Single Image😀 :: 😀 20210925_145847.jpg\n"
          ]
        },
        {
          "output_type": "stream",
          "name": "stderr",
          "text": [
            "100%|██████████| 10/10 [00:02<00:00,  3.47it/s]\n"
          ]
        },
        {
          "output_type": "stream",
          "name": "stdout",
          "text": [
            "Single Image😀 :: 😀 Screenshot_20240301_014252_Facebook.jpg\n",
            "label, classes :: 5 , MD MUNTASIR AREFIN NAEEM\n",
            "path ::  /content/drive/MyDrive/ImageData/MD MUNTASIR AREFIN NAEEM\n"
          ]
        },
        {
          "output_type": "stream",
          "name": "stderr",
          "text": [
            "\r  0%|          | 0/10 [00:00<?, ?it/s]"
          ]
        },
        {
          "output_type": "stream",
          "name": "stdout",
          "text": [
            "Single Image😀 :: 😀 287792461_3294601764118574_2685753382961838690_n.jpg\n"
          ]
        },
        {
          "output_type": "stream",
          "name": "stderr",
          "text": [
            "\r 10%|█         | 1/10 [00:00<00:01,  5.27it/s]"
          ]
        },
        {
          "output_type": "stream",
          "name": "stdout",
          "text": [
            "Single Image😀 :: 😀 320056383_619291839883564_7048028013685894693_n.jpg\n"
          ]
        },
        {
          "output_type": "stream",
          "name": "stderr",
          "text": [
            "\r 20%|██        | 2/10 [00:00<00:02,  3.64it/s]"
          ]
        },
        {
          "output_type": "stream",
          "name": "stdout",
          "text": [
            "Single Image😀 :: 😀 316532240_3431892013722881_2077473884973127951_n.jpg\n"
          ]
        },
        {
          "output_type": "stream",
          "name": "stderr",
          "text": [
            "\r 30%|███       | 3/10 [00:00<00:01,  3.93it/s]"
          ]
        },
        {
          "output_type": "stream",
          "name": "stdout",
          "text": [
            "Single Image😀 :: 😀 381568396_3647041298874617_3628283613424837706_n.jpg\n"
          ]
        },
        {
          "output_type": "stream",
          "name": "stderr",
          "text": [
            "\r 40%|████      | 4/10 [00:01<00:01,  3.74it/s]"
          ]
        },
        {
          "output_type": "stream",
          "name": "stdout",
          "text": [
            "Single Image😀 :: 😀 191260090_3011774392401314_1443206442181469142_n.jpg\n"
          ]
        },
        {
          "output_type": "stream",
          "name": "stderr",
          "text": [
            "\r 50%|█████     | 5/10 [00:01<00:01,  3.13it/s]"
          ]
        },
        {
          "output_type": "stream",
          "name": "stdout",
          "text": [
            "Single Image😀 :: 😀 340248401_1271009723794957_7564881402209886361_n.jpg\n"
          ]
        },
        {
          "output_type": "stream",
          "name": "stderr",
          "text": [
            "\r 60%|██████    | 6/10 [00:01<00:01,  3.28it/s]"
          ]
        },
        {
          "output_type": "stream",
          "name": "stdout",
          "text": [
            "Single Image😀 :: 😀 299485514_3342800692632014_4080214702969970904_n.jpg\n"
          ]
        },
        {
          "output_type": "stream",
          "name": "stderr",
          "text": [
            "\r 70%|███████   | 7/10 [00:02<00:00,  3.40it/s]"
          ]
        },
        {
          "output_type": "stream",
          "name": "stdout",
          "text": [
            "Single Image😀 :: 😀 342571102_952218046195260_6337199552230526425_n.jpg\n"
          ]
        },
        {
          "output_type": "stream",
          "name": "stderr",
          "text": [
            "\r 80%|████████  | 8/10 [00:02<00:00,  2.74it/s]"
          ]
        },
        {
          "output_type": "stream",
          "name": "stdout",
          "text": [
            "Single Image😀 :: 😀 329365445_688972973022018_4580179416236588095_n.jpg\n"
          ]
        },
        {
          "output_type": "stream",
          "name": "stderr",
          "text": [
            "\r 90%|█████████ | 9/10 [00:02<00:00,  2.70it/s]"
          ]
        },
        {
          "output_type": "stream",
          "name": "stdout",
          "text": [
            "Single Image😀 :: 😀 365090080_3612249159020498_1400036575724407234_n (1).jpg\n"
          ]
        },
        {
          "output_type": "stream",
          "name": "stderr",
          "text": [
            "100%|██████████| 10/10 [00:03<00:00,  3.01it/s]\n"
          ]
        },
        {
          "output_type": "stream",
          "name": "stdout",
          "text": [
            "label, classes :: 6 , MD ATIK ULLAH KHAN\n",
            "path ::  /content/drive/MyDrive/ImageData/MD ATIK ULLAH KHAN\n"
          ]
        },
        {
          "output_type": "stream",
          "name": "stderr",
          "text": [
            "\r  0%|          | 0/10 [00:00<?, ?it/s]"
          ]
        },
        {
          "output_type": "stream",
          "name": "stdout",
          "text": [
            "Single Image😀 :: 😀 IMG_2798.jpg\n"
          ]
        },
        {
          "output_type": "stream",
          "name": "stderr",
          "text": [
            "\r 10%|█         | 1/10 [00:00<00:03,  2.89it/s]"
          ]
        },
        {
          "output_type": "stream",
          "name": "stdout",
          "text": [
            "Single Image😀 :: 😀 IMG_20230525_212237.jpg\n"
          ]
        },
        {
          "output_type": "stream",
          "name": "stderr",
          "text": [
            "\r 20%|██        | 2/10 [00:00<00:04,  1.91it/s]"
          ]
        },
        {
          "output_type": "stream",
          "name": "stdout",
          "text": [
            "Single Image😀 :: 😀 IMG_20230527_122903.jpg\n"
          ]
        },
        {
          "output_type": "stream",
          "name": "stderr",
          "text": [
            "\r 30%|███       | 3/10 [00:01<00:05,  1.38it/s]"
          ]
        },
        {
          "output_type": "stream",
          "name": "stdout",
          "text": [
            "Single Image😀 :: 😀 20230314_210734.jpg\n"
          ]
        },
        {
          "output_type": "stream",
          "name": "stderr",
          "text": [
            "\r 40%|████      | 4/10 [00:02<00:03,  1.77it/s]"
          ]
        },
        {
          "output_type": "stream",
          "name": "stdout",
          "text": [
            "Single Image😀 :: 😀 IMG_0560.jpg\n"
          ]
        },
        {
          "output_type": "stream",
          "name": "stderr",
          "text": [
            "\r 50%|█████     | 5/10 [00:02<00:02,  1.82it/s]"
          ]
        },
        {
          "output_type": "stream",
          "name": "stdout",
          "text": [
            "Single Image😀 :: 😀 0.jpg\n"
          ]
        },
        {
          "output_type": "stream",
          "name": "stderr",
          "text": [
            "\r 60%|██████    | 6/10 [00:03<00:01,  2.09it/s]"
          ]
        },
        {
          "output_type": "stream",
          "name": "stdout",
          "text": [
            "Single Image😀 :: 😀 IMG_2553.jpg\n"
          ]
        },
        {
          "output_type": "stream",
          "name": "stderr",
          "text": [
            "\r 70%|███████   | 7/10 [00:03<00:01,  2.16it/s]"
          ]
        },
        {
          "output_type": "stream",
          "name": "stdout",
          "text": [
            "Single Image😀 :: 😀 20230912_121310.jpg\n"
          ]
        },
        {
          "output_type": "stream",
          "name": "stderr",
          "text": [
            "\r 80%|████████  | 8/10 [00:03<00:00,  2.39it/s]"
          ]
        },
        {
          "output_type": "stream",
          "name": "stdout",
          "text": [
            "Single Image😀 :: 😀 20231017_160631.jpg\n"
          ]
        },
        {
          "output_type": "stream",
          "name": "stderr",
          "text": [
            "\r 90%|█████████ | 9/10 [00:04<00:00,  2.64it/s]"
          ]
        },
        {
          "output_type": "stream",
          "name": "stdout",
          "text": [
            "Single Image😀 :: 😀 IMG_20231006_132647.jpg\n"
          ]
        },
        {
          "output_type": "stream",
          "name": "stderr",
          "text": [
            "100%|██████████| 10/10 [00:04<00:00,  2.15it/s]\n"
          ]
        },
        {
          "output_type": "stream",
          "name": "stdout",
          "text": [
            "label, classes :: 7 , MD IMTIAJ ALAM SAJIN\n",
            "path ::  /content/drive/MyDrive/ImageData/MD IMTIAJ ALAM SAJIN\n"
          ]
        },
        {
          "output_type": "stream",
          "name": "stderr",
          "text": [
            "\r  0%|          | 0/10 [00:00<?, ?it/s]"
          ]
        },
        {
          "output_type": "stream",
          "name": "stdout",
          "text": [
            "Single Image😀 :: 😀 PXL_20231111_115748455.NIGHTk.jpg\n"
          ]
        },
        {
          "output_type": "stream",
          "name": "stderr",
          "text": [
            "\r 10%|█         | 1/10 [00:00<00:04,  1.99it/s]"
          ]
        },
        {
          "output_type": "stream",
          "name": "stdout",
          "text": [
            "Single Image😀 :: 😀 20220331083833_IMG_1004.JPG\n"
          ]
        },
        {
          "output_type": "stream",
          "name": "stderr",
          "text": [
            "\r 20%|██        | 2/10 [00:00<00:03,  2.38it/s]"
          ]
        },
        {
          "output_type": "stream",
          "name": "stdout",
          "text": [
            "Single Image😀 :: 😀 IMG20210316190341.jpg\n"
          ]
        },
        {
          "output_type": "stream",
          "name": "stderr",
          "text": [
            "\r 30%|███       | 3/10 [00:01<00:02,  3.08it/s]"
          ]
        },
        {
          "output_type": "stream",
          "name": "stdout",
          "text": [
            "Single Image😀 :: 😀 op_kop.JPG\n"
          ]
        },
        {
          "output_type": "stream",
          "name": "stderr",
          "text": [
            "\r 40%|████      | 4/10 [00:01<00:02,  2.57it/s]"
          ]
        },
        {
          "output_type": "stream",
          "name": "stdout",
          "text": [
            "Single Image😀 :: 😀 PXL_20231201_145545371.PORTRAIT.jpg\n"
          ]
        },
        {
          "output_type": "stream",
          "name": "stderr",
          "text": [
            "\r 50%|█████     | 5/10 [00:01<00:01,  2.81it/s]"
          ]
        },
        {
          "output_type": "stream",
          "name": "stdout",
          "text": [
            "Single Image😀 :: 😀 PXL_20240203_133743070.PORTlRAIT.jpg\n"
          ]
        },
        {
          "output_type": "stream",
          "name": "stderr",
          "text": [
            " 70%|███████   | 7/10 [00:02<00:00,  3.73it/s]"
          ]
        },
        {
          "output_type": "stream",
          "name": "stdout",
          "text": [
            "Single Image😀 :: 😀 PXL_20240126_122806567.jpg\n",
            "Single Image😀 :: 😀 20221020055447_IMG_8419f - Copy.JPG\n"
          ]
        },
        {
          "output_type": "stream",
          "name": "stderr",
          "text": [
            " 90%|█████████ | 9/10 [00:02<00:00,  3.43it/s]"
          ]
        },
        {
          "output_type": "stream",
          "name": "stdout",
          "text": [
            "Single Image😀 :: 😀 PXL_20240203_103720507.jpg\n",
            "Single Image😀 :: 😀 PXL_20231216_144717661.PORTRAIT.jpg\n"
          ]
        },
        {
          "output_type": "stream",
          "name": "stderr",
          "text": [
            "100%|██████████| 10/10 [00:03<00:00,  2.96it/s]\n"
          ]
        },
        {
          "output_type": "stream",
          "name": "stdout",
          "text": [
            "label, classes :: 8 , ESM-E MOULA CHOWDHURY ABHA\n",
            "path ::  /content/drive/MyDrive/ImageData/ESM-E MOULA CHOWDHURY ABHA\n"
          ]
        },
        {
          "output_type": "stream",
          "name": "stderr",
          "text": [
            " 10%|█         | 1/10 [00:00<00:01,  7.27it/s]"
          ]
        },
        {
          "output_type": "stream",
          "name": "stdout",
          "text": [
            "Single Image😀 :: 😀 IMG-20240223-WA0014.jpg\n",
            "Single Image😀 :: 😀 IMG-20240223-WA0008.jpg\n"
          ]
        },
        {
          "output_type": "stream",
          "name": "stderr",
          "text": [
            " 30%|███       | 3/10 [00:00<00:01,  6.94it/s]"
          ]
        },
        {
          "output_type": "stream",
          "name": "stdout",
          "text": [
            "Single Image😀 :: 😀 IMG-20240223-WA0024.jpg\n",
            "Single Image😀 :: 😀 IMG-20240223-WA0026.jpg\n"
          ]
        },
        {
          "output_type": "stream",
          "name": "stderr",
          "text": [
            " 50%|█████     | 5/10 [00:00<00:00,  6.56it/s]"
          ]
        },
        {
          "output_type": "stream",
          "name": "stdout",
          "text": [
            "Single Image😀 :: 😀 IMG-20240223-WA0023.jpg\n",
            "Single Image😀 :: 😀 IMG-20240223-WA0029.jpg\n"
          ]
        },
        {
          "output_type": "stream",
          "name": "stderr",
          "text": [
            " 70%|███████   | 7/10 [00:01<00:00,  6.57it/s]"
          ]
        },
        {
          "output_type": "stream",
          "name": "stdout",
          "text": [
            "Single Image😀 :: 😀 IMG-20240223-WA0028.jpg\n",
            "Single Image😀 :: 😀 IMG-20240223-WA0019.jpg\n"
          ]
        },
        {
          "output_type": "stream",
          "name": "stderr",
          "text": [
            "\r 80%|████████  | 8/10 [00:01<00:00,  6.77it/s]"
          ]
        },
        {
          "output_type": "stream",
          "name": "stdout",
          "text": [
            "Single Image😀 :: 😀 IMG-20240223-WA0022.jpg\n"
          ]
        },
        {
          "output_type": "stream",
          "name": "stderr",
          "text": [
            "100%|██████████| 10/10 [00:01<00:00,  6.42it/s]\n"
          ]
        },
        {
          "output_type": "stream",
          "name": "stdout",
          "text": [
            "Single Image😀 :: 😀 IMG-20240223-WA0025.jpg\n",
            "label, classes :: 9 , MD JAHID HASSAN\n",
            "path ::  /content/drive/MyDrive/ImageData/MD JAHID HASSAN\n"
          ]
        },
        {
          "output_type": "stream",
          "name": "stderr",
          "text": [
            "\r  0%|          | 0/10 [00:00<?, ?it/s]"
          ]
        },
        {
          "output_type": "stream",
          "name": "stdout",
          "text": [
            "Single Image😀 :: 😀 Jahid(4).jpg\n"
          ]
        },
        {
          "output_type": "stream",
          "name": "stderr",
          "text": [
            "\r 10%|█         | 1/10 [00:00<00:01,  5.11it/s]"
          ]
        },
        {
          "output_type": "stream",
          "name": "stdout",
          "text": [
            "Single Image😀 :: 😀 Jahid(2).jpg\n"
          ]
        },
        {
          "output_type": "stream",
          "name": "stderr",
          "text": [
            "\r 20%|██        | 2/10 [00:00<00:01,  5.72it/s]"
          ]
        },
        {
          "output_type": "stream",
          "name": "stdout",
          "text": [
            "Single Image😀 :: 😀 Jahid(8).jpg\n"
          ]
        },
        {
          "output_type": "stream",
          "name": "stderr",
          "text": [
            "\r 30%|███       | 3/10 [00:00<00:01,  5.08it/s]"
          ]
        },
        {
          "output_type": "stream",
          "name": "stdout",
          "text": [
            "Single Image😀 :: 😀 Jahid(3).jpg\n"
          ]
        },
        {
          "output_type": "stream",
          "name": "stderr",
          "text": [
            " 50%|█████     | 5/10 [00:00<00:01,  4.96it/s]"
          ]
        },
        {
          "output_type": "stream",
          "name": "stdout",
          "text": [
            "Single Image😀 :: 😀 Jahid(7).jpg\n",
            "Single Image😀 :: 😀 Jahid.jpg\n"
          ]
        },
        {
          "output_type": "stream",
          "name": "stderr",
          "text": [
            " 70%|███████   | 7/10 [00:01<00:00,  5.86it/s]"
          ]
        },
        {
          "output_type": "stream",
          "name": "stdout",
          "text": [
            "Single Image😀 :: 😀 Jahid(5).jpg\n",
            "Single Image😀 :: 😀 Jahid(9).jpg\n"
          ]
        },
        {
          "output_type": "stream",
          "name": "stderr",
          "text": [
            " 90%|█████████ | 9/10 [00:01<00:00,  6.01it/s]"
          ]
        },
        {
          "output_type": "stream",
          "name": "stdout",
          "text": [
            "Single Image😀 :: 😀 Jahid(1).jpg\n",
            "Single Image😀 :: 😀 Jahid(6).jpg\n"
          ]
        },
        {
          "output_type": "stream",
          "name": "stderr",
          "text": [
            "100%|██████████| 10/10 [00:01<00:00,  5.58it/s]\n"
          ]
        },
        {
          "output_type": "stream",
          "name": "stdout",
          "text": [
            "label, classes :: 10 , NAHAR ISLAM NISHI\n",
            "path ::  /content/drive/MyDrive/ImageData/NAHAR ISLAM NISHI\n"
          ]
        },
        {
          "output_type": "stream",
          "name": "stderr",
          "text": [
            "\r  0%|          | 0/10 [00:00<?, ?it/s]"
          ]
        },
        {
          "output_type": "stream",
          "name": "stdout",
          "text": [
            "Single Image😀 :: 😀 photo_12_2024-03-01_14-05-10.jpg\n"
          ]
        },
        {
          "output_type": "stream",
          "name": "stderr",
          "text": [
            " 20%|██        | 2/10 [00:00<00:01,  5.10it/s]"
          ]
        },
        {
          "output_type": "stream",
          "name": "stdout",
          "text": [
            "Single Image😀 :: 😀 photo_3_2024-03-01_16-40-30.jpg\n",
            "Single Image😀 :: 😀 photo_8_2024-03-01_14-05-10.jpg\n"
          ]
        },
        {
          "output_type": "stream",
          "name": "stderr",
          "text": [
            " 40%|████      | 4/10 [00:00<00:01,  5.21it/s]"
          ]
        },
        {
          "output_type": "stream",
          "name": "stdout",
          "text": [
            "Single Image😀 :: 😀 photo_1_2024-03-01_16-40-30.jpg\n",
            "Single Image😀 :: 😀 photo_14_2024-03-01_14-05-10.jpg\n"
          ]
        },
        {
          "output_type": "stream",
          "name": "stderr",
          "text": [
            " 60%|██████    | 6/10 [00:01<00:00,  5.47it/s]"
          ]
        },
        {
          "output_type": "stream",
          "name": "stdout",
          "text": [
            "Single Image😀 :: 😀 photo_11_2024-03-01_14-05-10.jpg\n",
            "Single Image😀 :: 😀 photo_1_2024-03-01_14-05-10.jpg\n"
          ]
        },
        {
          "output_type": "stream",
          "name": "stderr",
          "text": [
            " 80%|████████  | 8/10 [00:01<00:00,  5.24it/s]"
          ]
        },
        {
          "output_type": "stream",
          "name": "stdout",
          "text": [
            "Single Image😀 :: 😀 photo_5_2024-03-01_14-05-10.jpg\n",
            "Single Image😀 :: 😀 photo_7_2024-03-01_14-05-10.jpg\n"
          ]
        },
        {
          "output_type": "stream",
          "name": "stderr",
          "text": [
            "\r 90%|█████████ | 9/10 [00:01<00:00,  5.39it/s]"
          ]
        },
        {
          "output_type": "stream",
          "name": "stdout",
          "text": [
            "Single Image😀 :: 😀 photo_10_2024-03-01_14-05-10.jpg\n"
          ]
        },
        {
          "output_type": "stream",
          "name": "stderr",
          "text": [
            "100%|██████████| 10/10 [00:01<00:00,  5.18it/s]\n"
          ]
        },
        {
          "output_type": "stream",
          "name": "stdout",
          "text": [
            "label, classes :: 11 , MD WAHIDUZZAMAN SUVA\n",
            "path ::  /content/drive/MyDrive/ImageData/MD WAHIDUZZAMAN SUVA\n"
          ]
        },
        {
          "output_type": "stream",
          "name": "stderr",
          "text": [
            "\r  0%|          | 0/10 [00:00<?, ?it/s]"
          ]
        },
        {
          "output_type": "stream",
          "name": "stdout",
          "text": [
            "Single Image😀 :: 😀 20210801_115829.jpg\n"
          ]
        },
        {
          "output_type": "stream",
          "name": "stderr",
          "text": [
            "\r 10%|█         | 1/10 [00:00<00:05,  1.74it/s]"
          ]
        },
        {
          "output_type": "stream",
          "name": "stdout",
          "text": [
            "Single Image😀 :: 😀 20210508_131238.jpg\n"
          ]
        },
        {
          "output_type": "stream",
          "name": "stderr",
          "text": [
            "\r 20%|██        | 2/10 [00:01<00:05,  1.53it/s]"
          ]
        },
        {
          "output_type": "stream",
          "name": "stdout",
          "text": [
            "Single Image😀 :: 😀 20210810_130108.jpg\n"
          ]
        },
        {
          "output_type": "stream",
          "name": "stderr",
          "text": [
            "\r 30%|███       | 3/10 [00:01<00:03,  1.90it/s]"
          ]
        },
        {
          "output_type": "stream",
          "name": "stdout",
          "text": [
            "Single Image😀 :: 😀 20210806_165628.jpg\n"
          ]
        },
        {
          "output_type": "stream",
          "name": "stderr",
          "text": [
            "\r 40%|████      | 4/10 [00:02<00:03,  1.97it/s]"
          ]
        },
        {
          "output_type": "stream",
          "name": "stdout",
          "text": [
            "Single Image😀 :: 😀 20210806_170750.jpg\n"
          ]
        },
        {
          "output_type": "stream",
          "name": "stderr",
          "text": [
            "\r 50%|█████     | 5/10 [00:02<00:02,  2.09it/s]"
          ]
        },
        {
          "output_type": "stream",
          "name": "stdout",
          "text": [
            "Single Image😀 :: 😀 20211007_123821.jpg\n"
          ]
        },
        {
          "output_type": "stream",
          "name": "stderr",
          "text": [
            "\r 60%|██████    | 6/10 [00:02<00:01,  2.22it/s]"
          ]
        },
        {
          "output_type": "stream",
          "name": "stdout",
          "text": [
            "Single Image😀 :: 😀 20210616_180711.jpg\n"
          ]
        },
        {
          "output_type": "stream",
          "name": "stderr",
          "text": [
            " 80%|████████  | 8/10 [00:03<00:00,  3.28it/s]"
          ]
        },
        {
          "output_type": "stream",
          "name": "stdout",
          "text": [
            "Single Image😀 :: 😀 20210116_103021.jpg\n",
            "Single Image😀 :: 😀 20210508_131238(1).jpg\n"
          ]
        },
        {
          "output_type": "stream",
          "name": "stderr",
          "text": [
            "\r 90%|█████████ | 9/10 [00:03<00:00,  2.67it/s]"
          ]
        },
        {
          "output_type": "stream",
          "name": "stdout",
          "text": [
            "Single Image😀 :: 😀 20211122_185753.jpg\n"
          ]
        },
        {
          "output_type": "stream",
          "name": "stderr",
          "text": [
            "100%|██████████| 10/10 [00:04<00:00,  2.20it/s]\n"
          ]
        },
        {
          "output_type": "stream",
          "name": "stdout",
          "text": [
            "label, classes :: 12 , MOHAMMAD NUR\n",
            "path ::  /content/drive/MyDrive/ImageData/MOHAMMAD NUR\n"
          ]
        },
        {
          "output_type": "stream",
          "name": "stderr",
          "text": [
            "\r  0%|          | 0/10 [00:00<?, ?it/s]"
          ]
        },
        {
          "output_type": "stream",
          "name": "stdout",
          "text": [
            "Single Image😀 :: 😀 1705695655412.jpg\n"
          ]
        },
        {
          "output_type": "stream",
          "name": "stderr",
          "text": [
            "\r 10%|█         | 1/10 [00:00<00:03,  2.54it/s]"
          ]
        },
        {
          "output_type": "stream",
          "name": "stdout",
          "text": [
            "Single Image😀 :: 😀 1694425060305.jpg\n"
          ]
        },
        {
          "output_type": "stream",
          "name": "stderr",
          "text": [
            " 30%|███       | 3/10 [00:00<00:01,  3.97it/s]"
          ]
        },
        {
          "output_type": "stream",
          "name": "stdout",
          "text": [
            "Single Image😀 :: 😀 1705695655149.jpg\n",
            "Single Image😀 :: 😀 IMG_0522.jpg\n"
          ]
        },
        {
          "output_type": "stream",
          "name": "stderr",
          "text": [
            "\r 40%|████      | 4/10 [00:01<00:01,  3.17it/s]"
          ]
        },
        {
          "output_type": "stream",
          "name": "stdout",
          "text": [
            "Single Image😀 :: 😀 IMG_20230725_194243.jpg\n"
          ]
        },
        {
          "output_type": "stream",
          "name": "stderr",
          "text": [
            "\r 50%|█████     | 5/10 [00:01<00:01,  3.52it/s]"
          ]
        },
        {
          "output_type": "stream",
          "name": "stdout",
          "text": [
            "Single Image😀 :: 😀 IMG_20231211_085319.jpg\n"
          ]
        },
        {
          "output_type": "stream",
          "name": "stderr",
          "text": [
            " 70%|███████   | 7/10 [00:02<00:00,  3.27it/s]"
          ]
        },
        {
          "output_type": "stream",
          "name": "stdout",
          "text": [
            "Single Image😀 :: 😀 IMG_4816.jpg\n",
            "Single Image😀 :: 😀 IMG_20231122_233310_618-EDIT (1).jpg\n"
          ]
        },
        {
          "output_type": "stream",
          "name": "stderr",
          "text": [
            "\r 80%|████████  | 8/10 [00:02<00:00,  3.53it/s]"
          ]
        },
        {
          "output_type": "stream",
          "name": "stdout",
          "text": [
            "Single Image😀 :: 😀 IMG_20230107_204536.jpg\n"
          ]
        },
        {
          "output_type": "stream",
          "name": "stderr",
          "text": [
            "\r 90%|█████████ | 9/10 [00:02<00:00,  3.02it/s]"
          ]
        },
        {
          "output_type": "stream",
          "name": "stdout",
          "text": [
            "Single Image😀 :: 😀 IMG_20231214_164006.jpg\n"
          ]
        },
        {
          "output_type": "stream",
          "name": "stderr",
          "text": [
            "100%|██████████| 10/10 [00:03<00:00,  2.89it/s]\n"
          ]
        },
        {
          "output_type": "stream",
          "name": "stdout",
          "text": [
            "label, classes :: 13 , MOHAMMAD BIN AB JALIL SHEAKH\n",
            "path ::  /content/drive/MyDrive/ImageData/MOHAMMAD BIN AB JALIL SHEAKH\n"
          ]
        },
        {
          "output_type": "stream",
          "name": "stderr",
          "text": [
            "\r  0%|          | 0/10 [00:00<?, ?it/s]"
          ]
        },
        {
          "output_type": "stream",
          "name": "stdout",
          "text": [
            "Single Image😀 :: 😀 Mohammad.jpg\n"
          ]
        },
        {
          "output_type": "stream",
          "name": "stderr",
          "text": [
            "\r 10%|█         | 1/10 [00:00<00:03,  2.63it/s]"
          ]
        },
        {
          "output_type": "stream",
          "name": "stdout",
          "text": [
            "Single Image😀 :: 😀 Mohammad(3).jpg\n"
          ]
        },
        {
          "output_type": "stream",
          "name": "stderr",
          "text": [
            "\r 20%|██        | 2/10 [00:01<00:05,  1.44it/s]"
          ]
        },
        {
          "output_type": "stream",
          "name": "stdout",
          "text": [
            "Single Image😀 :: 😀 Mohammad(1).jpg\n"
          ]
        },
        {
          "output_type": "stream",
          "name": "stderr",
          "text": [
            " 40%|████      | 4/10 [00:02<00:03,  1.60it/s]"
          ]
        },
        {
          "output_type": "stream",
          "name": "stdout",
          "text": [
            "Single Image😀 :: 😀 Mohammad(5).jpg\n",
            "Single Image😀 :: 😀 Mohammad(4).jpg\n"
          ]
        },
        {
          "output_type": "stream",
          "name": "stderr",
          "text": [
            "\r 50%|█████     | 5/10 [00:03<00:04,  1.18it/s]"
          ]
        },
        {
          "output_type": "stream",
          "name": "stdout",
          "text": [
            "Single Image😀 :: 😀 Mohammad(8).jpg\n"
          ]
        },
        {
          "output_type": "stream",
          "name": "stderr",
          "text": [
            "\r 60%|██████    | 6/10 [00:05<00:03,  1.03it/s]"
          ]
        },
        {
          "output_type": "stream",
          "name": "stdout",
          "text": [
            "Single Image😀 :: 😀 Mohammad(7).jpg\n"
          ]
        },
        {
          "output_type": "stream",
          "name": "stderr",
          "text": [
            " 80%|████████  | 8/10 [00:05<00:01,  1.79it/s]"
          ]
        },
        {
          "output_type": "stream",
          "name": "stdout",
          "text": [
            "Single Image😀 :: 😀 Mohammad(9).jpg\n",
            "Single Image😀 :: 😀 Mohammad(2).jpg\n"
          ]
        },
        {
          "output_type": "stream",
          "name": "stderr",
          "text": [
            "\r 90%|█████████ | 9/10 [00:06<00:00,  1.47it/s]"
          ]
        },
        {
          "output_type": "stream",
          "name": "stdout",
          "text": [
            "Single Image😀 :: 😀 Mohammad(6).jpg\n"
          ]
        },
        {
          "output_type": "stream",
          "name": "stderr",
          "text": [
            "100%|██████████| 10/10 [00:07<00:00,  1.34it/s]\n"
          ]
        },
        {
          "output_type": "stream",
          "name": "stdout",
          "text": [
            "label, classes :: 14 , MOHAMMED TANVIR HASSAN\n",
            "path ::  /content/drive/MyDrive/ImageData/MOHAMMED TANVIR HASSAN\n"
          ]
        },
        {
          "output_type": "stream",
          "name": "stderr",
          "text": [
            "\r  0%|          | 0/10 [00:00<?, ?it/s]"
          ]
        },
        {
          "output_type": "stream",
          "name": "stdout",
          "text": [
            "Single Image😀 :: 😀 IMG_20210204.jpg\n"
          ]
        },
        {
          "output_type": "stream",
          "name": "stderr",
          "text": [
            "\r 10%|█         | 1/10 [00:00<00:05,  1.69it/s]"
          ]
        },
        {
          "output_type": "stream",
          "name": "stdout",
          "text": [
            "Single Image😀 :: 😀 IMG_5976.JPG\n"
          ]
        },
        {
          "output_type": "stream",
          "name": "stderr",
          "text": [
            "\r 20%|██        | 2/10 [00:01<00:04,  1.90it/s]"
          ]
        },
        {
          "output_type": "stream",
          "name": "stdout",
          "text": [
            "Single Image😀 :: 😀 IMG_2204.jpg\n"
          ]
        },
        {
          "output_type": "stream",
          "name": "stderr",
          "text": [
            "\r 30%|███       | 3/10 [00:01<00:03,  1.99it/s]"
          ]
        },
        {
          "output_type": "stream",
          "name": "stdout",
          "text": [
            "Single Image😀 :: 😀 IMG_2021.jpg\n"
          ]
        },
        {
          "output_type": "stream",
          "name": "stderr",
          "text": [
            "\r 40%|████      | 4/10 [00:02<00:03,  1.62it/s]"
          ]
        },
        {
          "output_type": "stream",
          "name": "stdout",
          "text": [
            "Single Image😀 :: 😀 IMG_4090.JPG\n"
          ]
        },
        {
          "output_type": "stream",
          "name": "stderr",
          "text": [
            "\r 50%|█████     | 5/10 [00:02<00:03,  1.62it/s]"
          ]
        },
        {
          "output_type": "stream",
          "name": "stdout",
          "text": [
            "Single Image😀 :: 😀 IMG_25847.jpg\n"
          ]
        },
        {
          "output_type": "stream",
          "name": "stderr",
          "text": [
            "\r 60%|██████    | 6/10 [00:03<00:02,  1.97it/s]"
          ]
        },
        {
          "output_type": "stream",
          "name": "stdout",
          "text": [
            "Single Image😀 :: 😀 IMG_2015854.jpg\n"
          ]
        },
        {
          "output_type": "stream",
          "name": "stderr",
          "text": [
            "\r 70%|███████   | 7/10 [00:03<00:01,  1.89it/s]"
          ]
        },
        {
          "output_type": "stream",
          "name": "stdout",
          "text": [
            "Single Image😀 :: 😀 IMG_7089.JPG\n"
          ]
        },
        {
          "output_type": "stream",
          "name": "stderr",
          "text": [
            "\r 80%|████████  | 8/10 [00:04<00:01,  1.65it/s]"
          ]
        },
        {
          "output_type": "stream",
          "name": "stdout",
          "text": [
            "Single Image😀 :: 😀 IMG_20204.jpg\n"
          ]
        },
        {
          "output_type": "stream",
          "name": "stderr",
          "text": [
            "\r 90%|█████████ | 9/10 [00:05<00:00,  1.69it/s]"
          ]
        },
        {
          "output_type": "stream",
          "name": "stdout",
          "text": [
            "Single Image😀 :: 😀 IMG_9978.JPG\n"
          ]
        },
        {
          "output_type": "stream",
          "name": "stderr",
          "text": [
            "100%|██████████| 10/10 [00:05<00:00,  1.79it/s]\n"
          ]
        },
        {
          "output_type": "stream",
          "name": "stdout",
          "text": [
            "label, classes :: 15 , MD SAJID ISLAM KHAN\n",
            "path ::  /content/drive/MyDrive/ImageData/MD SAJID ISLAM KHAN\n"
          ]
        },
        {
          "output_type": "stream",
          "name": "stderr",
          "text": [
            " 10%|█         | 1/10 [00:00<00:01,  5.47it/s]"
          ]
        },
        {
          "output_type": "stream",
          "name": "stdout",
          "text": [
            "Single Image😀 :: 😀 photo_2024-02-29_18-43-27.jpg\n",
            "Single Image😀 :: 😀 photo_2024-02-29_18-45-24 (2).jpg\n"
          ]
        },
        {
          "output_type": "stream",
          "name": "stderr",
          "text": [
            "\r 20%|██        | 2/10 [00:00<00:01,  5.42it/s]"
          ]
        },
        {
          "output_type": "stream",
          "name": "stdout",
          "text": [
            "Single Image😀 :: 😀 photo_2024-02-29_18-43-27 (3).jpg\n"
          ]
        },
        {
          "output_type": "stream",
          "name": "stderr",
          "text": [
            "\r 30%|███       | 3/10 [00:00<00:01,  3.73it/s]"
          ]
        },
        {
          "output_type": "stream",
          "name": "stdout",
          "text": [
            "Single Image😀 :: 😀 photo_2024-02-29_18-43-27 (4).jpg\n"
          ]
        },
        {
          "output_type": "stream",
          "name": "stderr",
          "text": [
            "\r 40%|████      | 4/10 [00:01<00:01,  3.57it/s]"
          ]
        },
        {
          "output_type": "stream",
          "name": "stdout",
          "text": [
            "Single Image😀 :: 😀 photo_2024-02-29_18-45-24 (4).jpg\n"
          ]
        },
        {
          "output_type": "stream",
          "name": "stderr",
          "text": [
            " 60%|██████    | 6/10 [00:01<00:01,  3.53it/s]"
          ]
        },
        {
          "output_type": "stream",
          "name": "stdout",
          "text": [
            "Single Image😀 :: 😀 photo_2024-02-29_18-43-27 (5).jpg\n",
            "Single Image😀 :: 😀 photo_2024-02-29_18-43-27 (6).jpg\n"
          ]
        },
        {
          "output_type": "stream",
          "name": "stderr",
          "text": [
            " 80%|████████  | 8/10 [00:02<00:00,  4.19it/s]"
          ]
        },
        {
          "output_type": "stream",
          "name": "stdout",
          "text": [
            "Single Image😀 :: 😀 photo_2024-02-29_18-45-24.jpg\n",
            "Single Image😀 :: 😀 photo_2024-02-29_18-43-27 (2).jpg\n"
          ]
        },
        {
          "output_type": "stream",
          "name": "stderr",
          "text": [
            "100%|██████████| 10/10 [00:02<00:00,  4.15it/s]\n"
          ]
        },
        {
          "output_type": "stream",
          "name": "stdout",
          "text": [
            "Single Image😀 :: 😀 photo_2024-02-29_18-45-24 (3).jpg\n",
            "label, classes :: 16 , REZWAN AHMAD\n",
            "path ::  /content/drive/MyDrive/ImageData/REZWAN AHMAD\n"
          ]
        },
        {
          "output_type": "stream",
          "name": "stderr",
          "text": [
            "\r  0%|          | 0/10 [00:00<?, ?it/s]"
          ]
        },
        {
          "output_type": "stream",
          "name": "stdout",
          "text": [
            "Single Image😀 :: 😀 Rezwan(3).jpg\n"
          ]
        },
        {
          "output_type": "stream",
          "name": "stderr",
          "text": [
            " 20%|██        | 2/10 [00:00<00:01,  4.50it/s]"
          ]
        },
        {
          "output_type": "stream",
          "name": "stdout",
          "text": [
            "Single Image😀 :: 😀 Rezwan(8).jpg\n",
            "Single Image😀 :: 😀 Rezwan(7).jpg\n"
          ]
        },
        {
          "output_type": "stream",
          "name": "stderr",
          "text": [
            "\r 30%|███       | 3/10 [00:00<00:01,  3.88it/s]"
          ]
        },
        {
          "output_type": "stream",
          "name": "stdout",
          "text": [
            "Single Image😀 :: 😀 Rezwan(1).jpg\n"
          ]
        },
        {
          "output_type": "stream",
          "name": "stderr",
          "text": [
            "\r 40%|████      | 4/10 [00:01<00:01,  3.37it/s]"
          ]
        },
        {
          "output_type": "stream",
          "name": "stdout",
          "text": [
            "Single Image😀 :: 😀 Rezwan(2).jpg\n"
          ]
        },
        {
          "output_type": "stream",
          "name": "stderr",
          "text": [
            "\r 50%|█████     | 5/10 [00:01<00:01,  3.32it/s]"
          ]
        },
        {
          "output_type": "stream",
          "name": "stdout",
          "text": [
            "Single Image😀 :: 😀 Rezwan(4).jpg\n"
          ]
        },
        {
          "output_type": "stream",
          "name": "stderr",
          "text": [
            " 70%|███████   | 7/10 [00:01<00:00,  3.75it/s]"
          ]
        },
        {
          "output_type": "stream",
          "name": "stdout",
          "text": [
            "Single Image😀 :: 😀 Rezwan.jpg\n",
            "Single Image😀 :: 😀 Rezwan(5).jpg\n"
          ]
        },
        {
          "output_type": "stream",
          "name": "stderr",
          "text": [
            "\r 80%|████████  | 8/10 [00:02<00:00,  3.44it/s]"
          ]
        },
        {
          "output_type": "stream",
          "name": "stdout",
          "text": [
            "Single Image😀 :: 😀 Rezwan(9).jpg\n"
          ]
        },
        {
          "output_type": "stream",
          "name": "stderr",
          "text": [
            "\r 90%|█████████ | 9/10 [00:02<00:00,  3.48it/s]"
          ]
        },
        {
          "output_type": "stream",
          "name": "stdout",
          "text": [
            "Single Image😀 :: 😀 Rezwan(6).jpg\n"
          ]
        },
        {
          "output_type": "stream",
          "name": "stderr",
          "text": [
            "100%|██████████| 10/10 [00:02<00:00,  3.53it/s]\n"
          ]
        },
        {
          "output_type": "stream",
          "name": "stdout",
          "text": [
            "label, classes :: 17 , SYEDA HUMAIRA JABEEN\n",
            "path ::  /content/drive/MyDrive/ImageData/SYEDA HUMAIRA JABEEN\n"
          ]
        },
        {
          "output_type": "stream",
          "name": "stderr",
          "text": [
            "\r  0%|          | 0/10 [00:00<?, ?it/s]"
          ]
        },
        {
          "output_type": "stream",
          "name": "stdout",
          "text": [
            "Single Image😀 :: 😀 IMG-20230127-WA0045.jpg\n"
          ]
        },
        {
          "output_type": "stream",
          "name": "stderr",
          "text": [
            " 20%|██        | 2/10 [00:00<00:01,  4.18it/s]"
          ]
        },
        {
          "output_type": "stream",
          "name": "stdout",
          "text": [
            "Single Image😀 :: 😀 Snapchat-477145335.jpg\n",
            "Single Image😀 :: 😀 IMG_20240213_091551_458.jpg\n"
          ]
        },
        {
          "output_type": "stream",
          "name": "stderr",
          "text": [
            "\r 30%|███       | 3/10 [00:00<00:01,  4.18it/s]"
          ]
        },
        {
          "output_type": "stream",
          "name": "stdout",
          "text": [
            "Single Image😀 :: 😀 Snapchat-32699592.jpg\n"
          ]
        },
        {
          "output_type": "stream",
          "name": "stderr",
          "text": [
            " 50%|█████     | 5/10 [00:01<00:01,  4.18it/s]"
          ]
        },
        {
          "output_type": "stream",
          "name": "stdout",
          "text": [
            "Single Image😀 :: 😀 Snapchat-2032754434.jpg\n",
            "Single Image😀 :: 😀 IMG-20230425-WA0071.jpg\n"
          ]
        },
        {
          "output_type": "stream",
          "name": "stderr",
          "text": [
            " 70%|███████   | 7/10 [00:01<00:00,  4.71it/s]"
          ]
        },
        {
          "output_type": "stream",
          "name": "stdout",
          "text": [
            "Single Image😀 :: 😀 IMG-20230127-WA0045 (1).jpg\n",
            "Single Image😀 :: 😀 received_998970354415575.jpeg\n"
          ]
        },
        {
          "output_type": "stream",
          "name": "stderr",
          "text": [
            "\r 80%|████████  | 8/10 [00:02<00:00,  3.69it/s]"
          ]
        },
        {
          "output_type": "stream",
          "name": "stdout",
          "text": [
            "Single Image😀 :: 😀 IMG_20240213_091551_458 (1).jpg\n"
          ]
        },
        {
          "output_type": "stream",
          "name": "stderr",
          "text": [
            "\r 90%|█████████ | 9/10 [00:02<00:00,  3.98it/s]"
          ]
        },
        {
          "output_type": "stream",
          "name": "stdout",
          "text": [
            "Single Image😀 :: 😀 Snapchat-1929729646.jpg\n"
          ]
        },
        {
          "output_type": "stream",
          "name": "stderr",
          "text": [
            "100%|██████████| 10/10 [00:02<00:00,  3.85it/s]\n"
          ]
        },
        {
          "output_type": "stream",
          "name": "stdout",
          "text": [
            "label, classes :: 18 , NAVID MAHFUZ NAYEEM\n",
            "path ::  /content/drive/MyDrive/ImageData/NAVID MAHFUZ NAYEEM\n"
          ]
        },
        {
          "output_type": "stream",
          "name": "stderr",
          "text": [
            "\r  0%|          | 0/10 [00:00<?, ?it/s]"
          ]
        },
        {
          "output_type": "stream",
          "name": "stdout",
          "text": [
            "Single Image😀 :: 😀 20240301_143223.jpg\n"
          ]
        },
        {
          "output_type": "stream",
          "name": "stderr",
          "text": [
            "\r 10%|█         | 1/10 [00:00<00:05,  1.50it/s]"
          ]
        },
        {
          "output_type": "stream",
          "name": "stdout",
          "text": [
            "Single Image😀 :: 😀 20240301_143250.jpg\n"
          ]
        },
        {
          "output_type": "stream",
          "name": "stderr",
          "text": [
            "\r 20%|██        | 2/10 [00:01<00:05,  1.50it/s]"
          ]
        },
        {
          "output_type": "stream",
          "name": "stdout",
          "text": [
            "Single Image😀 :: 😀 20240301_143236.jpg\n"
          ]
        },
        {
          "output_type": "stream",
          "name": "stderr",
          "text": [
            "\r 30%|███       | 3/10 [00:02<00:06,  1.16it/s]"
          ]
        },
        {
          "output_type": "stream",
          "name": "stdout",
          "text": [
            "Single Image😀 :: 😀 20240301_143203.jpg\n"
          ]
        },
        {
          "output_type": "stream",
          "name": "stderr",
          "text": [
            "\r 40%|████      | 4/10 [00:03<00:05,  1.19it/s]"
          ]
        },
        {
          "output_type": "stream",
          "name": "stdout",
          "text": [
            "Single Image😀 :: 😀 20240301_143257.jpg\n"
          ]
        },
        {
          "output_type": "stream",
          "name": "stderr",
          "text": [
            "\r 50%|█████     | 5/10 [00:04<00:04,  1.18it/s]"
          ]
        },
        {
          "output_type": "stream",
          "name": "stdout",
          "text": [
            "Single Image😀 :: 😀 20240301_143359.jpg\n"
          ]
        },
        {
          "output_type": "stream",
          "name": "stderr",
          "text": [
            "\r 60%|██████    | 6/10 [00:04<00:03,  1.32it/s]"
          ]
        },
        {
          "output_type": "stream",
          "name": "stdout",
          "text": [
            "Single Image😀 :: 😀 20240301_143357.jpg\n"
          ]
        },
        {
          "output_type": "stream",
          "name": "stderr",
          "text": [
            "\r 70%|███████   | 7/10 [00:05<00:02,  1.27it/s]"
          ]
        },
        {
          "output_type": "stream",
          "name": "stdout",
          "text": [
            "Single Image😀 :: 😀 20240301_143213.jpg\n"
          ]
        },
        {
          "output_type": "stream",
          "name": "stderr",
          "text": [
            "\r 80%|████████  | 8/10 [00:06<00:01,  1.24it/s]"
          ]
        },
        {
          "output_type": "stream",
          "name": "stdout",
          "text": [
            "Single Image😀 :: 😀 20240301_143346.jpg\n"
          ]
        },
        {
          "output_type": "stream",
          "name": "stderr",
          "text": [
            "\r 90%|█████████ | 9/10 [00:06<00:00,  1.36it/s]"
          ]
        },
        {
          "output_type": "stream",
          "name": "stdout",
          "text": [
            "Single Image😀 :: 😀 20240301_143350.jpg\n"
          ]
        },
        {
          "output_type": "stream",
          "name": "stderr",
          "text": [
            "100%|██████████| 10/10 [00:07<00:00,  1.26it/s]\n"
          ]
        },
        {
          "output_type": "stream",
          "name": "stdout",
          "text": [
            "label, classes :: 19 , S M FAISAL\n",
            "path ::  /content/drive/MyDrive/ImageData/S M FAISAL\n"
          ]
        },
        {
          "output_type": "stream",
          "name": "stderr",
          "text": [
            "\r  0%|          | 0/10 [00:00<?, ?it/s]"
          ]
        },
        {
          "output_type": "stream",
          "name": "stdout",
          "text": [
            "Single Image😀 :: 😀 7.jpg\n"
          ]
        },
        {
          "output_type": "stream",
          "name": "stderr",
          "text": [
            "\r 10%|█         | 1/10 [00:01<00:11,  1.30s/it]"
          ]
        },
        {
          "output_type": "stream",
          "name": "stdout",
          "text": [
            "Single Image😀 :: 😀 10.jpg\n"
          ]
        },
        {
          "output_type": "stream",
          "name": "stderr",
          "text": [
            "\r 20%|██        | 2/10 [00:02<00:11,  1.38s/it]"
          ]
        },
        {
          "output_type": "stream",
          "name": "stdout",
          "text": [
            "Single Image😀 :: 😀 4.jpg\n"
          ]
        },
        {
          "output_type": "stream",
          "name": "stderr",
          "text": [
            "\r 30%|███       | 3/10 [00:03<00:06,  1.10it/s]"
          ]
        },
        {
          "output_type": "stream",
          "name": "stdout",
          "text": [
            "Single Image😀 :: 😀 1.jpg\n"
          ]
        },
        {
          "output_type": "stream",
          "name": "stderr",
          "text": [
            "\r 40%|████      | 4/10 [00:03<00:04,  1.31it/s]"
          ]
        },
        {
          "output_type": "stream",
          "name": "stdout",
          "text": [
            "Single Image😀 :: 😀 6.jpg\n"
          ]
        },
        {
          "output_type": "stream",
          "name": "stderr",
          "text": [
            "\r 50%|█████     | 5/10 [00:04<00:03,  1.29it/s]"
          ]
        },
        {
          "output_type": "stream",
          "name": "stdout",
          "text": [
            "Single Image😀 :: 😀 9.jpg\n"
          ]
        },
        {
          "output_type": "stream",
          "name": "stderr",
          "text": [
            "\r 60%|██████    | 6/10 [00:05<00:03,  1.16it/s]"
          ]
        },
        {
          "output_type": "stream",
          "name": "stdout",
          "text": [
            "Single Image😀 :: 😀 8.jpg\n"
          ]
        },
        {
          "output_type": "stream",
          "name": "stderr",
          "text": [
            "\r 70%|███████   | 7/10 [00:06<00:02,  1.25it/s]"
          ]
        },
        {
          "output_type": "stream",
          "name": "stdout",
          "text": [
            "Single Image😀 :: 😀 3.jpg\n"
          ]
        },
        {
          "output_type": "stream",
          "name": "stderr",
          "text": [
            "\r 80%|████████  | 8/10 [00:07<00:01,  1.12it/s]"
          ]
        },
        {
          "output_type": "stream",
          "name": "stdout",
          "text": [
            "Single Image😀 :: 😀 2.jpg\n"
          ]
        },
        {
          "output_type": "stream",
          "name": "stderr",
          "text": [
            "\r 90%|█████████ | 9/10 [00:07<00:00,  1.22it/s]"
          ]
        },
        {
          "output_type": "stream",
          "name": "stdout",
          "text": [
            "Single Image😀 :: 😀 5.jpg\n"
          ]
        },
        {
          "output_type": "stream",
          "name": "stderr",
          "text": [
            "100%|██████████| 10/10 [00:08<00:00,  1.14it/s]"
          ]
        },
        {
          "output_type": "stream",
          "name": "stdout",
          "text": [
            "Length of train_data :: 200\n"
          ]
        },
        {
          "output_type": "stream",
          "name": "stderr",
          "text": [
            "\n"
          ]
        }
      ]
    },
    {
      "cell_type": "code",
      "source": [
        "plt.imshow(train_data[12][0]) # dataset read korar jonno  [0][1]"
      ],
      "metadata": {
        "colab": {
          "base_uri": "https://localhost:8080/",
          "height": 451
        },
        "id": "EXKNpYT3F9M_",
        "outputId": "0e2fe646-1cb4-4c70-f638-f74e119e2833"
      },
      "execution_count": null,
      "outputs": [
        {
          "output_type": "execute_result",
          "data": {
            "text/plain": [
              "<matplotlib.image.AxesImage at 0x79bcdde711b0>"
            ]
          },
          "metadata": {},
          "execution_count": 13
        },
        {
          "output_type": "display_data",
          "data": {
            "text/plain": [
              "<Figure size 640x480 with 1 Axes>"
            ],
            "image/png": "[encoded data removed]"
          },
          "metadata": {}
        }
      ]
    },
    {
      "cell_type": "code",
      "source": [
        "plt.imshow(train_data[19][0]) #------ 😭 [0 to 19][0] ei porjonto e chobi print hoy .. architecture ta bujhi nai 😭\n",
        "plt.xlabel(classes[train_data[0][1]]) # --- 😭 label thik moto print hocche na\n",
        "#--plt.xlabel(train_data[0][1])"
      ],
      "metadata": {
        "colab": {
          "base_uri": "https://localhost:8080/",
          "height": 470
        },
        "id": "i1dgycERGS-O",
        "outputId": "22eb9d1d-b528-441b-ad0a-33032a6fe37d"
      },
      "execution_count": null,
      "outputs": [
        {
          "output_type": "execute_result",
          "data": {
            "text/plain": [
              "Text(0.5, 0, 'S')"
            ]
          },
          "metadata": {},
          "execution_count": 16
        },
        {
          "output_type": "display_data",
          "data": {
            "text/plain": [
              "<Figure size 640x480 with 1 Axes>"
            ],
            "image/png": "[encoded data removed]"
          },
          "metadata": {}
        }
      ]
    },
    {
      "cell_type": "code",
      "source": [
        "for i in range(39):\n",
        "  print(train_data[i][1])  # 0 gula mohammad , 1 gula fahim rahman"
      ],
      "metadata": {
        "colab": {
          "base_uri": "https://localhost:8080/"
        },
        "id": "81wDrvvlHylj",
        "outputId": "1d3bd83f-6533-479d-c934-e81f10cc6e25"
      },
      "execution_count": null,
      "outputs": [
        {
          "output_type": "stream",
          "name": "stdout",
          "text": [
            "0\n",
            "0\n",
            "0\n",
            "0\n",
            "0\n",
            "0\n",
            "0\n",
            "0\n",
            "0\n",
            "0\n",
            "1\n",
            "1\n",
            "1\n",
            "1\n",
            "1\n",
            "1\n",
            "1\n",
            "1\n",
            "1\n",
            "1\n",
            "2\n",
            "2\n",
            "2\n",
            "2\n",
            "2\n",
            "2\n",
            "2\n",
            "2\n",
            "2\n",
            "2\n",
            "3\n",
            "3\n",
            "3\n",
            "3\n",
            "3\n",
            "3\n",
            "3\n",
            "3\n",
            "3\n"
          ]
        }
      ]
    },
    {
      "cell_type": "markdown",
      "source": [
        "# Data ke shuffle korte hobe  - Sir"
      ],
      "metadata": {
        "id": "gcmbIAAqJJER"
      }
    },
    {
      "cell_type": "code",
      "source": [
        "random.shuffle(train_data)\n",
        "print(f\"print-> train_data after shuffle : {train_data[0][1]}\")\n",
        "#train_data[1][1]\n",
        "\n",
        "#-------------------- tensor object / numpy array diye feed korte hobe\n",
        "#--------------------- image ar label alada korbo\n",
        "train_imgs = []\n",
        "train_labels = [] # duita empty array niye nilam\n",
        "\n",
        "for img, label in train_data :\n",
        "  train_imgs.append(img)\n",
        "  train_labels.append(label)\n",
        "\n",
        "\n",
        "#------------------ normal list theke numpy te convert korbo\n",
        "\n",
        "train_imgs_np = np.array(train_imgs)\n",
        "train_labels_np = np.array(train_labels)\n",
        "\n",
        "#-- lets print the dymention\n",
        "print(f\"print-> train_imgs_np.shape , train_labels_np.shape :: {train_imgs_np.shape} , {train_labels_np.shape}\")\n",
        "\n"
      ],
      "metadata": {
        "colab": {
          "base_uri": "https://localhost:8080/"
        },
        "id": "qYEtWeW-JPSo",
        "outputId": "73ef0957-5226-4d03-92c5-79bde6109106"
      },
      "execution_count": null,
      "outputs": [
        {
          "output_type": "stream",
          "name": "stdout",
          "text": [
            "print-> train_data after shuffle : 18\n",
            "print-> train_imgs_np.shape , train_labels_np.shape :: (200, 128, 128, 3) , (200,)\n"
          ]
        }
      ]
    },
    {
      "cell_type": "markdown",
      "source": [
        "# এবার আমরা CNN দেখবো ... মডেল ক্রিয়েট করবো - Sir"
      ],
      "metadata": {
        "id": "hv98FE8qJNEp"
      }
    },
    {
      "cell_type": "code",
      "source": [
        "# 🎉🎉🎉🎉🎉🎉🎉🎉🎉🎉🎉🎉🎉🎉🎉🎉🎉🎉🎉🎉🎉 CURRENTLY WORKING IN THIS PORTION🎉🎉🎉🎉🎉🎉🎉🎉🎉\n",
        "model = tf.keras.Sequential(\n",
        "    [\n",
        "        tf.keras.Input (shape=(128, 128, 3)), # // input bolte hobe .. 3 hocche depth which also means color image Bcz RGB\n",
        "        # ekhon kichu hidden layer amader ke bolte hobe\n",
        "\n",
        "        # tf.keras.layers.Conv2D(\n",
        "        #       filters = 512, # // koto gula filter amra use korbo\n",
        "        #       kernel_size = (5,5),  # // kernel_size .. filter er dymention\n",
        "        #       activation = 'sigmoid',\n",
        "        #       padding = 'same'  # // tensorflow nije calculate korbe .. koto tuku padding dite hobe\n",
        "        #     ),\n",
        "\n",
        "        # tf.keras.layers.Conv2D(\n",
        "        #       filters = 128, # // koto gula filter amra use korbo\n",
        "        #       kernel_size = (5,5),  # // kernel_size .. filter er dymention\n",
        "        #       activation = 'relu',\n",
        "        #       padding = 'same'\n",
        "        #     ),\n",
        "\n",
        "        tf.keras.layers.Conv2D(\n",
        "              filters = 64, # // koto gula filter amra use korbo\n",
        "              kernel_size = (5,5),  # // kernel_size .. filter er dymention\n",
        "              activation = 'sigmoid',\n",
        "              padding = 'same'\n",
        "            ),\n",
        "\n",
        "        tf.keras.layers.Conv2D(\n",
        "              filters = 32, # // koto gula filter amra use korbo\n",
        "              kernel_size = (3,3),  # // kernel_size .. filter er dymention\n",
        "              activation = 'sigmoid',\n",
        "\n",
        "            ),\n",
        "\n",
        "        # tf.keras.layers.Conv2D(\n",
        "        #       filters = 16,\n",
        "        #       kernel_size = (3,3),\n",
        "        #       activation = 'sigmoid',\n",
        "        #     ),\n",
        "\n",
        "      # dymention কে ছোট করতে চাইলে\n",
        "       tf.keras.layers.MaxPooling2D(pool_size = (2,2)), # --------------- 😭😭😭 issue\n",
        "      #tf.keras.layers.Dense(unit = 3, activation='softmax'),  # --------------- 😭😭😭 issue\n",
        "\n",
        "      # নেটওয়ারক এর আউটপুট এর  আগে মেট্রিক্স কে ভেক্টর এ কনভার্ট করতে হবে\n",
        "\n",
        "      tf.keras.layers.Flatten()\n",
        "\n",
        "      # কত নাম্বার অফ প্যারামিটার  কমে\n",
        "\n",
        "\n",
        "\n",
        "    ]\n",
        ")\n",
        "\n",
        "model.summary() # // model ta kemon holo dekhte chai\n",
        "\n",
        "model.compile(\n",
        "    optimizer = 'adam', #adam,\n",
        "    loss = 'sparse_categorical_crossentropy', #Categorical Crossentropy   sparse_categorical_crossentropy\n",
        "    metrics = ['accuracy']\n",
        ")\n",
        "\n",
        "# লেটস ট্রেইন দ্যা মডেল\n",
        "h = model.fit(\n",
        "    x = train_imgs_np,\n",
        "    y = train_labels_np,\n",
        "    epochs = 100,\n",
        "    validation_split = 0.2, # 20% chobi validation er jonno use korbe ..\n",
        "    batch_size = 25 # ek bar e 5 ta kore chobi niye kaj korbe\n",
        ")\n",
        "\n",
        "\n"
      ],
      "metadata": {
        "id": "qcAlRoLfNTPB",
        "colab": {
          "base_uri": "https://localhost:8080/"
        },
        "outputId": "3e033de5-5e9f-49e1-a9a7-d8989d1f7d4a"
      },
      "execution_count": 40,
      "outputs": [
        {
          "output_type": "stream",
          "name": "stdout",
          "text": [
            "Model: \"sequential_19\"\n",
            "_________________________________________________________________\n",
            " Layer (type)                Output Shape              Param #   \n",
            "=================================================================\n",
            " conv2d_46 (Conv2D)          (None, 128, 128, 64)      4864      \n",
            "                                                                 \n",
            " conv2d_47 (Conv2D)          (None, 126, 126, 32)      18464     \n",
            "                                                                 \n",
            " max_pooling2d_17 (MaxPooli  (None, 63, 63, 32)        0         \n",
            " ng2D)                                                           \n",
            "                                                                 \n",
            " flatten_19 (Flatten)        (None, 127008)            0         \n",
            "                                                                 \n",
            "=================================================================\n",
            "Total params: 23328 (91.12 KB)\n",
            "Trainable params: 23328 (91.12 KB)\n",
            "Non-trainable params: 0 (0.00 Byte)\n",
            "_________________________________________________________________\n",
            "Epoch 1/100\n",
            "5/5 [==============================] - 2s 158ms/step - loss: 11.5419 - accuracy: 0.0000e+00 - val_loss: 11.2944 - val_accuracy: 0.0000e+00\n",
            "Epoch 2/100\n",
            "5/5 [==============================] - 0s 80ms/step - loss: 11.1095 - accuracy: 0.0000e+00 - val_loss: 11.0748 - val_accuracy: 0.0000e+00\n",
            "Epoch 3/100\n",
            "5/5 [==============================] - 0s 65ms/step - loss: 10.7918 - accuracy: 0.0000e+00 - val_loss: 10.7327 - val_accuracy: 0.0125\n",
            "Epoch 4/100\n",
            "5/5 [==============================] - 0s 65ms/step - loss: 10.2747 - accuracy: 0.0333 - val_loss: 9.9627 - val_accuracy: 0.0250\n",
            "Epoch 5/100\n",
            "5/5 [==============================] - 0s 79ms/step - loss: 9.4574 - accuracy: 0.0750 - val_loss: 8.9272 - val_accuracy: 0.0625\n",
            "Epoch 6/100\n",
            "5/5 [==============================] - 0s 66ms/step - loss: 8.4077 - accuracy: 0.0333 - val_loss: 7.8745 - val_accuracy: 0.0500\n",
            "Epoch 7/100\n",
            "5/5 [==============================] - 0s 65ms/step - loss: 7.3588 - accuracy: 0.0583 - val_loss: 6.8583 - val_accuracy: 0.0625\n",
            "Epoch 8/100\n",
            "5/5 [==============================] - 0s 79ms/step - loss: 6.3324 - accuracy: 0.0500 - val_loss: 5.9434 - val_accuracy: 0.0375\n",
            "Epoch 9/100\n",
            "5/5 [==============================] - 0s 64ms/step - loss: 5.3636 - accuracy: 0.0833 - val_loss: 5.2217 - val_accuracy: 0.0375\n",
            "Epoch 10/100\n",
            "5/5 [==============================] - 0s 80ms/step - loss: 4.6533 - accuracy: 0.0750 - val_loss: 4.6585 - val_accuracy: 0.0375\n",
            "Epoch 11/100\n",
            "5/5 [==============================] - 0s 81ms/step - loss: 4.0839 - accuracy: 0.1167 - val_loss: 4.2387 - val_accuracy: 0.0375\n",
            "Epoch 12/100\n",
            "5/5 [==============================] - 0s 65ms/step - loss: 3.7159 - accuracy: 0.0833 - val_loss: 3.9277 - val_accuracy: 0.0500\n",
            "Epoch 13/100\n",
            "5/5 [==============================] - 0s 65ms/step - loss: 3.4601 - accuracy: 0.1500 - val_loss: 3.7771 - val_accuracy: 0.0375\n",
            "Epoch 14/100\n",
            "5/5 [==============================] - 0s 79ms/step - loss: 3.2804 - accuracy: 0.1417 - val_loss: 3.7022 - val_accuracy: 0.0500\n",
            "Epoch 15/100\n",
            "5/5 [==============================] - 0s 65ms/step - loss: 3.1920 - accuracy: 0.1333 - val_loss: 3.6674 - val_accuracy: 0.0375\n",
            "Epoch 16/100\n",
            "5/5 [==============================] - 0s 66ms/step - loss: 3.1254 - accuracy: 0.1417 - val_loss: 3.5884 - val_accuracy: 0.0375\n",
            "Epoch 17/100\n",
            "5/5 [==============================] - 0s 64ms/step - loss: 3.0630 - accuracy: 0.1667 - val_loss: 3.5157 - val_accuracy: 0.0750\n",
            "Epoch 18/100\n",
            "5/5 [==============================] - 0s 65ms/step - loss: 3.0431 - accuracy: 0.1667 - val_loss: 3.5231 - val_accuracy: 0.0875\n",
            "Epoch 19/100\n",
            "5/5 [==============================] - 0s 79ms/step - loss: 2.9752 - accuracy: 0.1583 - val_loss: 3.5594 - val_accuracy: 0.0625\n",
            "Epoch 20/100\n",
            "5/5 [==============================] - 0s 65ms/step - loss: 2.9784 - accuracy: 0.1917 - val_loss: 3.4886 - val_accuracy: 0.0625\n",
            "Epoch 21/100\n",
            "5/5 [==============================] - 0s 65ms/step - loss: 2.9352 - accuracy: 0.2333 - val_loss: 3.5319 - val_accuracy: 0.0500\n",
            "Epoch 22/100\n",
            "5/5 [==============================] - 0s 80ms/step - loss: 2.9283 - accuracy: 0.2083 - val_loss: 3.5204 - val_accuracy: 0.0375\n",
            "Epoch 23/100\n",
            "5/5 [==============================] - 0s 65ms/step - loss: 2.8708 - accuracy: 0.2417 - val_loss: 3.5481 - val_accuracy: 0.0625\n",
            "Epoch 24/100\n",
            "5/5 [==============================] - 0s 65ms/step - loss: 2.8740 - accuracy: 0.2417 - val_loss: 3.4966 - val_accuracy: 0.0750\n",
            "Epoch 25/100\n",
            "5/5 [==============================] - 0s 70ms/step - loss: 2.8354 - accuracy: 0.2500 - val_loss: 3.5041 - val_accuracy: 0.0625\n",
            "Epoch 26/100\n",
            "5/5 [==============================] - 0s 85ms/step - loss: 2.8292 - accuracy: 0.2417 - val_loss: 3.5746 - val_accuracy: 0.0625\n",
            "Epoch 27/100\n",
            "5/5 [==============================] - 0s 85ms/step - loss: 2.7736 - accuracy: 0.3000 - val_loss: 3.5218 - val_accuracy: 0.0625\n",
            "Epoch 28/100\n",
            "5/5 [==============================] - 0s 84ms/step - loss: 2.7614 - accuracy: 0.3167 - val_loss: 3.5400 - val_accuracy: 0.0750\n",
            "Epoch 29/100\n",
            "5/5 [==============================] - 0s 70ms/step - loss: 2.7365 - accuracy: 0.3333 - val_loss: 3.5099 - val_accuracy: 0.0625\n",
            "Epoch 30/100\n",
            "5/5 [==============================] - 0s 70ms/step - loss: 2.7242 - accuracy: 0.2833 - val_loss: 3.5267 - val_accuracy: 0.0625\n",
            "Epoch 31/100\n",
            "5/5 [==============================] - 0s 73ms/step - loss: 2.6794 - accuracy: 0.3417 - val_loss: 3.5326 - val_accuracy: 0.1000\n",
            "Epoch 32/100\n",
            "5/5 [==============================] - 0s 86ms/step - loss: 2.6605 - accuracy: 0.3417 - val_loss: 3.5873 - val_accuracy: 0.0750\n",
            "Epoch 33/100\n",
            "5/5 [==============================] - 0s 71ms/step - loss: 2.6684 - accuracy: 0.3500 - val_loss: 3.5524 - val_accuracy: 0.0750\n",
            "Epoch 34/100\n",
            "5/5 [==============================] - 0s 65ms/step - loss: 2.6762 - accuracy: 0.3583 - val_loss: 3.5329 - val_accuracy: 0.0750\n",
            "Epoch 35/100\n",
            "5/5 [==============================] - 0s 66ms/step - loss: 2.6423 - accuracy: 0.4250 - val_loss: 3.5547 - val_accuracy: 0.0750\n",
            "Epoch 36/100\n",
            "5/5 [==============================] - 0s 80ms/step - loss: 2.6024 - accuracy: 0.3250 - val_loss: 3.5205 - val_accuracy: 0.0875\n",
            "Epoch 37/100\n",
            "5/5 [==============================] - 0s 66ms/step - loss: 2.6409 - accuracy: 0.3333 - val_loss: 3.5035 - val_accuracy: 0.0500\n",
            "Epoch 38/100\n",
            "5/5 [==============================] - 0s 80ms/step - loss: 2.6348 - accuracy: 0.2667 - val_loss: 3.5767 - val_accuracy: 0.1000\n",
            "Epoch 39/100\n",
            "5/5 [==============================] - 0s 65ms/step - loss: 2.5964 - accuracy: 0.3750 - val_loss: 3.5543 - val_accuracy: 0.0750\n",
            "Epoch 40/100\n",
            "5/5 [==============================] - 0s 65ms/step - loss: 2.5881 - accuracy: 0.3667 - val_loss: 3.5957 - val_accuracy: 0.0875\n",
            "Epoch 41/100\n",
            "5/5 [==============================] - 0s 80ms/step - loss: 2.5421 - accuracy: 0.3667 - val_loss: 3.5370 - val_accuracy: 0.1125\n",
            "Epoch 42/100\n",
            "5/5 [==============================] - 0s 65ms/step - loss: 2.5218 - accuracy: 0.4083 - val_loss: 3.5328 - val_accuracy: 0.0750\n",
            "Epoch 43/100\n",
            "5/5 [==============================] - 0s 81ms/step - loss: 2.5069 - accuracy: 0.3750 - val_loss: 3.5539 - val_accuracy: 0.0625\n",
            "Epoch 44/100\n",
            "5/5 [==============================] - 0s 66ms/step - loss: 2.5103 - accuracy: 0.3833 - val_loss: 3.5251 - val_accuracy: 0.0750\n",
            "Epoch 45/100\n",
            "5/5 [==============================] - 0s 80ms/step - loss: 2.4816 - accuracy: 0.4333 - val_loss: 3.5706 - val_accuracy: 0.0750\n",
            "Epoch 46/100\n",
            "5/5 [==============================] - 0s 80ms/step - loss: 2.4952 - accuracy: 0.3833 - val_loss: 3.6145 - val_accuracy: 0.0750\n",
            "Epoch 47/100\n",
            "5/5 [==============================] - 0s 65ms/step - loss: 2.4622 - accuracy: 0.3750 - val_loss: 3.5855 - val_accuracy: 0.0750\n",
            "Epoch 48/100\n",
            "5/5 [==============================] - 0s 65ms/step - loss: 2.4254 - accuracy: 0.4083 - val_loss: 3.5380 - val_accuracy: 0.0750\n",
            "Epoch 49/100\n",
            "5/5 [==============================] - 0s 66ms/step - loss: 2.4484 - accuracy: 0.4333 - val_loss: 3.5701 - val_accuracy: 0.0625\n",
            "Epoch 50/100\n",
            "5/5 [==============================] - 0s 81ms/step - loss: 2.4421 - accuracy: 0.3833 - val_loss: 3.5673 - val_accuracy: 0.1000\n",
            "Epoch 51/100\n",
            "5/5 [==============================] - 0s 65ms/step - loss: 2.4242 - accuracy: 0.4417 - val_loss: 3.6449 - val_accuracy: 0.0875\n",
            "Epoch 52/100\n",
            "5/5 [==============================] - 0s 80ms/step - loss: 2.4025 - accuracy: 0.3917 - val_loss: 3.6254 - val_accuracy: 0.0750\n",
            "Epoch 53/100\n",
            "5/5 [==============================] - 0s 81ms/step - loss: 2.3670 - accuracy: 0.4167 - val_loss: 3.5786 - val_accuracy: 0.0750\n",
            "Epoch 54/100\n",
            "5/5 [==============================] - 0s 66ms/step - loss: 2.3875 - accuracy: 0.4250 - val_loss: 3.5947 - val_accuracy: 0.0625\n",
            "Epoch 55/100\n",
            "5/5 [==============================] - 0s 66ms/step - loss: 2.3512 - accuracy: 0.4417 - val_loss: 3.6013 - val_accuracy: 0.0750\n",
            "Epoch 56/100\n",
            "5/5 [==============================] - 0s 65ms/step - loss: 2.3764 - accuracy: 0.4583 - val_loss: 3.6524 - val_accuracy: 0.0750\n",
            "Epoch 57/100\n",
            "5/5 [==============================] - 0s 82ms/step - loss: 2.3683 - accuracy: 0.4000 - val_loss: 3.6629 - val_accuracy: 0.0875\n",
            "Epoch 58/100\n",
            "5/5 [==============================] - 0s 65ms/step - loss: 2.3760 - accuracy: 0.3917 - val_loss: 3.6199 - val_accuracy: 0.0875\n",
            "Epoch 59/100\n",
            "5/5 [==============================] - 0s 66ms/step - loss: 2.3494 - accuracy: 0.4250 - val_loss: 3.6276 - val_accuracy: 0.0750\n",
            "Epoch 60/100\n",
            "5/5 [==============================] - 0s 65ms/step - loss: 2.3723 - accuracy: 0.4167 - val_loss: 3.5938 - val_accuracy: 0.0750\n",
            "Epoch 61/100\n",
            "5/5 [==============================] - 0s 79ms/step - loss: 2.3446 - accuracy: 0.4333 - val_loss: 3.5961 - val_accuracy: 0.0625\n",
            "Epoch 62/100\n",
            "5/5 [==============================] - 0s 65ms/step - loss: 2.3633 - accuracy: 0.4250 - val_loss: 3.5964 - val_accuracy: 0.0500\n",
            "Epoch 63/100\n",
            "5/5 [==============================] - 0s 66ms/step - loss: 2.3592 - accuracy: 0.4333 - val_loss: 3.6750 - val_accuracy: 0.0750\n",
            "Epoch 64/100\n",
            "5/5 [==============================] - 0s 83ms/step - loss: 2.3303 - accuracy: 0.4417 - val_loss: 3.7474 - val_accuracy: 0.0750\n",
            "Epoch 65/100\n",
            "5/5 [==============================] - 0s 70ms/step - loss: 2.3329 - accuracy: 0.4333 - val_loss: 3.6427 - val_accuracy: 0.0750\n",
            "Epoch 66/100\n",
            "5/5 [==============================] - 0s 84ms/step - loss: 2.2945 - accuracy: 0.4667 - val_loss: 3.6358 - val_accuracy: 0.0625\n",
            "Epoch 67/100\n",
            "5/5 [==============================] - 0s 85ms/step - loss: 2.3088 - accuracy: 0.4500 - val_loss: 3.6609 - val_accuracy: 0.0625\n",
            "Epoch 68/100\n",
            "5/5 [==============================] - 0s 87ms/step - loss: 2.2847 - accuracy: 0.4333 - val_loss: 3.6529 - val_accuracy: 0.0750\n",
            "Epoch 69/100\n",
            "5/5 [==============================] - 0s 85ms/step - loss: 2.2990 - accuracy: 0.3833 - val_loss: 3.6543 - val_accuracy: 0.0625\n",
            "Epoch 70/100\n",
            "5/5 [==============================] - 0s 70ms/step - loss: 2.2715 - accuracy: 0.4417 - val_loss: 3.6603 - val_accuracy: 0.0750\n",
            "Epoch 71/100\n",
            "5/5 [==============================] - 0s 87ms/step - loss: 2.2650 - accuracy: 0.4667 - val_loss: 3.5994 - val_accuracy: 0.0625\n",
            "Epoch 72/100\n",
            "5/5 [==============================] - 0s 72ms/step - loss: 2.2644 - accuracy: 0.4167 - val_loss: 3.5764 - val_accuracy: 0.0625\n",
            "Epoch 73/100\n",
            "5/5 [==============================] - 0s 67ms/step - loss: 2.2714 - accuracy: 0.4333 - val_loss: 3.5944 - val_accuracy: 0.0750\n",
            "Epoch 74/100\n",
            "5/5 [==============================] - 0s 66ms/step - loss: 2.2318 - accuracy: 0.4500 - val_loss: 3.6737 - val_accuracy: 0.0750\n",
            "Epoch 75/100\n",
            "5/5 [==============================] - 0s 80ms/step - loss: 2.2228 - accuracy: 0.4333 - val_loss: 3.6849 - val_accuracy: 0.0875\n",
            "Epoch 76/100\n",
            "5/5 [==============================] - 0s 66ms/step - loss: 2.2150 - accuracy: 0.4500 - val_loss: 3.7222 - val_accuracy: 0.0750\n",
            "Epoch 77/100\n",
            "5/5 [==============================] - 0s 67ms/step - loss: 2.2151 - accuracy: 0.4417 - val_loss: 3.6861 - val_accuracy: 0.0750\n",
            "Epoch 78/100\n",
            "5/5 [==============================] - 0s 66ms/step - loss: 2.2281 - accuracy: 0.4667 - val_loss: 3.6725 - val_accuracy: 0.0750\n",
            "Epoch 79/100\n",
            "5/5 [==============================] - 0s 81ms/step - loss: 2.2149 - accuracy: 0.4167 - val_loss: 3.7174 - val_accuracy: 0.0875\n",
            "Epoch 80/100\n",
            "5/5 [==============================] - 0s 66ms/step - loss: 2.2160 - accuracy: 0.4333 - val_loss: 3.6459 - val_accuracy: 0.0750\n",
            "Epoch 81/100\n",
            "5/5 [==============================] - 0s 81ms/step - loss: 2.2201 - accuracy: 0.4500 - val_loss: 3.5998 - val_accuracy: 0.1000\n",
            "Epoch 82/100\n",
            "5/5 [==============================] - 0s 80ms/step - loss: 2.1922 - accuracy: 0.4583 - val_loss: 3.6507 - val_accuracy: 0.0625\n",
            "Epoch 83/100\n",
            "5/5 [==============================] - 0s 66ms/step - loss: 2.1844 - accuracy: 0.4500 - val_loss: 3.6725 - val_accuracy: 0.0750\n",
            "Epoch 84/100\n",
            "5/5 [==============================] - 0s 65ms/step - loss: 2.1057 - accuracy: 0.5000 - val_loss: 3.7482 - val_accuracy: 0.0750\n",
            "Epoch 85/100\n",
            "5/5 [==============================] - 0s 81ms/step - loss: 2.1354 - accuracy: 0.4833 - val_loss: 3.8419 - val_accuracy: 0.0750\n",
            "Epoch 86/100\n",
            "5/5 [==============================] - 0s 66ms/step - loss: 2.1184 - accuracy: 0.4667 - val_loss: 3.7072 - val_accuracy: 0.0750\n",
            "Epoch 87/100\n",
            "5/5 [==============================] - 0s 81ms/step - loss: 2.1174 - accuracy: 0.4667 - val_loss: 3.6929 - val_accuracy: 0.0750\n",
            "Epoch 88/100\n",
            "5/5 [==============================] - 0s 66ms/step - loss: 2.0735 - accuracy: 0.4833 - val_loss: 3.7037 - val_accuracy: 0.0750\n",
            "Epoch 89/100\n",
            "5/5 [==============================] - 0s 81ms/step - loss: 2.0635 - accuracy: 0.5000 - val_loss: 3.6595 - val_accuracy: 0.0875\n",
            "Epoch 90/100\n",
            "5/5 [==============================] - 0s 80ms/step - loss: 2.0498 - accuracy: 0.5167 - val_loss: 3.7421 - val_accuracy: 0.0875\n",
            "Epoch 91/100\n",
            "5/5 [==============================] - 0s 80ms/step - loss: 2.0499 - accuracy: 0.5000 - val_loss: 3.8140 - val_accuracy: 0.0750\n",
            "Epoch 92/100\n",
            "5/5 [==============================] - 0s 82ms/step - loss: 2.0429 - accuracy: 0.4583 - val_loss: 3.7778 - val_accuracy: 0.0625\n",
            "Epoch 93/100\n",
            "5/5 [==============================] - 0s 97ms/step - loss: 2.0558 - accuracy: 0.5000 - val_loss: 3.7555 - val_accuracy: 0.0750\n",
            "Epoch 94/100\n",
            "5/5 [==============================] - 0s 80ms/step - loss: 2.0370 - accuracy: 0.5083 - val_loss: 3.6859 - val_accuracy: 0.0875\n",
            "Epoch 95/100\n",
            "5/5 [==============================] - 1s 117ms/step - loss: 2.0434 - accuracy: 0.5167 - val_loss: 3.7819 - val_accuracy: 0.0625\n",
            "Epoch 96/100\n",
            "5/5 [==============================] - 0s 79ms/step - loss: 2.0854 - accuracy: 0.4500 - val_loss: 3.8380 - val_accuracy: 0.0625\n",
            "Epoch 97/100\n",
            "5/5 [==============================] - 0s 108ms/step - loss: 2.0901 - accuracy: 0.4417 - val_loss: 3.7347 - val_accuracy: 0.1000\n",
            "Epoch 98/100\n",
            "5/5 [==============================] - 0s 81ms/step - loss: 2.0697 - accuracy: 0.4750 - val_loss: 3.7907 - val_accuracy: 0.0750\n",
            "Epoch 99/100\n",
            "5/5 [==============================] - 0s 81ms/step - loss: 2.0760 - accuracy: 0.5167 - val_loss: 3.6838 - val_accuracy: 0.0750\n",
            "Epoch 100/100\n",
            "5/5 [==============================] - 0s 80ms/step - loss: 2.0458 - accuracy: 0.5333 - val_loss: 3.7752 - val_accuracy: 0.0750\n"
          ]
        }
      ]
    },
    {
      "cell_type": "markdown",
      "source": [
        "# Plot Graph Based On Accuracy And Loss"
      ],
      "metadata": {
        "id": "GqWw2yD5k8qV"
      }
    },
    {
      "cell_type": "code",
      "source": [
        "# .. 🎉🎉🎉🎉🎉🎉🎉🎉🎉🎉🎉🎉🎉🎉🎉🎉🎉🎉🎉🎉🎉 CURRENTLY WORKING IN THIS PORTION🎉🎉🎉🎉🎉🎉🎉🎉🎉🎉🎉🎉🎉🎉🎉🎉🎉🎉🎉🎉🎉🎉🎉🎉\n",
        "plt.figure(figsize=(15,5))\n",
        "plt.subplot(1,2,1)\n",
        "plt.plot(h.history['accuracy'], 'o-', label='train accuracy')\n",
        "plt.plot(h.history['val_accuracy'], 'o-', label = 'validation accuracy')\n",
        "plt.xlabel('Epoch')\n",
        "plt.ylabel('Accuracy')\n",
        "plt.grid(True)\n",
        "plt.legend(loc='lower right')\n",
        "\n",
        "plt.subplot(1,2,2)\n",
        "plt.plot(h.history['loss'], 'o-', label='train loss')\n",
        "plt.plot(h.history['val_loss'], 'o-', label='validation loss')\n",
        "plt.xlabel('Epoch')\n",
        "plt.ylabel('Loss')\n",
        "plt.grid(True)\n",
        "plt.legend(loc='upper right')\n",
        "\n",
        "plt.show()"
      ],
      "metadata": {
        "colab": {
          "base_uri": "https://localhost:8080/",
          "height": 432
        },
        "id": "tP9hN67Fk71T",
        "outputId": "0a2df65d-2135-41f3-cc04-48c6633513b8"
      },
      "execution_count": null,
      "outputs": [
        {
          "output_type": "display_data",
          "data": {
            "text/plain": [
              "<Figure size 1500x500 with 2 Axes>"
            ],
            "image/png": "[encoded data removed]"
          },
          "metadata": {}
        }
      ]
    },
    {
      "cell_type": "markdown",
      "source": [
        "# Testing Should be done with Open CV"
      ],
      "metadata": {
        "id": "UHrLm8IhlhFh"
      }
    },
    {
      "cell_type": "code",
      "source": [
        "# predictions = model.predict(train_data[19][0])\n",
        "# np.argmax(predictions[0])"
      ],
      "metadata": {
        "id": "qcYaOK1tmau5"
      },
      "execution_count": null,
      "outputs": []
    },
    {
      "cell_type": "markdown",
      "source": [
        "# Open a CSV file and create a writer object class - YT Video"
      ],
      "metadata": {
        "id": "lN2-doWsXobJ"
      }
    },
    {
      "cell_type": "code",
      "source": [
        "# before that consider date time year\n",
        "now = datetime.now()\n",
        "current_date = now.strftime(\"%Y-%m-%d\")\n",
        "\n",
        "csvFile = open(current_date + '.csv', 'w+', newline = '')\n",
        "lnwrite = csv.writer(csvFile) # lnwrite is the instance .. we will use this to write the data in CSV file\n"
      ],
      "metadata": {
        "id": "Qs557kW7YCso"
      },
      "execution_count": null,
      "outputs": []
    },
    {
      "cell_type": "markdown",
      "source": [
        "# 1.1"
      ],
      "metadata": {
        "id": "1LQbSkXaZEvj"
      }
    },
    {
      "cell_type": "code",
      "source": [
        "while True :  # infinite loop to open camera\n",
        "  _ , frame = video_capture.read() # extracting the video data // return signal , actual video input\n",
        "  small_frame = cv2.resize(frame, (0,0), fx = 0.25, fy = 0.25 ) # decreasing the size of video coming from webcam\n",
        "  rgb_small_frame = small_frame[:, :, ::-1] # converting to RGB as CV2 takes the input as BGR  format\n",
        "  if True: # which is 's' in YT video\n",
        "    face_locations = face_recognition.face_locations(rgb_small_frame)\n",
        "    face_encodings = face_recognition.face_encodings(rgb_small_grame, face_locations)\n",
        "    face_names = []\n",
        "    for face_encoding in face_encodings:\n",
        "      # here we do the compare stuffs\n",
        "      break\n",
        "    break\n"
      ],
      "metadata": {
        "id": "tE17wFKAZHQK"
      },
      "execution_count": null,
      "outputs": []
    },
    {
      "cell_type": "markdown",
      "source": [
        "# Google Colab : Accss Webcam for Images and Video"
      ],
      "metadata": {
        "id": "xcFocP7E7lRP"
      }
    },
    {
      "cell_type": "code",
      "source": [
        "from tensorflow import keras"
      ],
      "metadata": {
        "id": "6rOWHYNs7kLn"
      },
      "execution_count": null,
      "outputs": []
    },
    {
      "cell_type": "code",
      "source": [
        "from keras.applications import MobileNetV2\n",
        "from keras.models import Model\n",
        "from keras.layers import Dense, GlobalAveragePooling2D\n",
        "\n",
        "num_classes = 20\n",
        "\n",
        "\n",
        "base_model = MobileNetV2(weights='imagenet', include_top=False, input_shape=(128, 128, 3))\n",
        "\n",
        "\n",
        "x = base_model.output\n",
        "x = GlobalAveragePooling2D()(x)\n",
        "x = Dense(128, activation='relu')(x)\n",
        "predictions = Dense(num_classes, activation='softmax')(x)\n",
        "\n",
        "\n",
        "model = Model(inputs=base_model.input, outputs=predictions)\n",
        "\n",
        "model.summary()"
      ],
      "metadata": {
        "colab": {
          "base_uri": "https://localhost:8080/"
        },
        "id": "4JmxOvLjBSVJ",
        "outputId": "66280573-406c-4950-cf8c-64535d9cf999"
      },
      "execution_count": null,
      "outputs": [
        {
          "output_type": "stream",
          "name": "stdout",
          "text": [
            "Downloading data from https://storage.googleapis.com/tensorflow/keras-applications/mobilenet_v2/mobilenet_v2_weights_tf_dim_ordering_tf_kernels_1.0_128_no_top.h5\n",
            "9406464/9406464 [==============================] - 1s 0us/step\n",
            "Model: \"model\"\n",
            "__________________________________________________________________________________________________\n",
            " Layer (type)                Output Shape                 Param #   Connected to                  \n",
            "==================================================================================================\n",
            " input_1 (InputLayer)        [(None, 128, 128, 3)]        0         []                            \n",
            "                                                                                                  \n",
            " Conv1 (Conv2D)              (None, 64, 64, 32)           864       ['input_1[0][0]']             \n",
            "                                                                                                  \n",
            " bn_Conv1 (BatchNormalizati  (None, 64, 64, 32)           128       ['Conv1[0][0]']               \n",
            " on)                                                                                              \n",
            "                                                                                                  \n",
            " Conv1_relu (ReLU)           (None, 64, 64, 32)           0         ['bn_Conv1[0][0]']            \n",
            "                                                                                                  \n",
            " expanded_conv_depthwise (D  (None, 64, 64, 32)           288       ['Conv1_relu[0][0]']          \n",
            " epthwiseConv2D)                                                                                  \n",
            "                                                                                                  \n",
            " expanded_conv_depthwise_BN  (None, 64, 64, 32)           128       ['expanded_conv_depthwise[0][0\n",
            "  (BatchNormalization)                                              ]']                           \n",
            "                                                                                                  \n",
            " expanded_conv_depthwise_re  (None, 64, 64, 32)           0         ['expanded_conv_depthwise_BN[0\n",
            " lu (ReLU)                                                          ][0]']                        \n",
            "                                                                                                  \n",
            " expanded_conv_project (Con  (None, 64, 64, 16)           512       ['expanded_conv_depthwise_relu\n",
            " v2D)                                                               [0][0]']                      \n",
            "                                                                                                  \n",
            " expanded_conv_project_BN (  (None, 64, 64, 16)           64        ['expanded_conv_project[0][0]'\n",
            " BatchNormalization)                                                ]                             \n",
            "                                                                                                  \n",
            " block_1_expand (Conv2D)     (None, 64, 64, 96)           1536      ['expanded_conv_project_BN[0][\n",
            "                                                                    0]']                          \n",
            "                                                                                                  \n",
            " block_1_expand_BN (BatchNo  (None, 64, 64, 96)           384       ['block_1_expand[0][0]']      \n",
            " rmalization)                                                                                     \n",
            "                                                                                                  \n",
            " block_1_expand_relu (ReLU)  (None, 64, 64, 96)           0         ['block_1_expand_BN[0][0]']   \n",
            "                                                                                                  \n",
            " block_1_pad (ZeroPadding2D  (None, 65, 65, 96)           0         ['block_1_expand_relu[0][0]'] \n",
            " )                                                                                                \n",
            "                                                                                                  \n",
            " block_1_depthwise (Depthwi  (None, 32, 32, 96)           864       ['block_1_pad[0][0]']         \n",
            " seConv2D)                                                                                        \n",
            "                                                                                                  \n",
            " block_1_depthwise_BN (Batc  (None, 32, 32, 96)           384       ['block_1_depthwise[0][0]']   \n",
            " hNormalization)                                                                                  \n",
            "                                                                                                  \n",
            " block_1_depthwise_relu (Re  (None, 32, 32, 96)           0         ['block_1_depthwise_BN[0][0]']\n",
            " LU)                                                                                              \n",
            "                                                                                                  \n",
            " block_1_project (Conv2D)    (None, 32, 32, 24)           2304      ['block_1_depthwise_relu[0][0]\n",
            "                                                                    ']                            \n",
            "                                                                                                  \n",
            " block_1_project_BN (BatchN  (None, 32, 32, 24)           96        ['block_1_project[0][0]']     \n",
            " ormalization)                                                                                    \n",
            "                                                                                                  \n",
            " block_2_expand (Conv2D)     (None, 32, 32, 144)          3456      ['block_1_project_BN[0][0]']  \n",
            "                                                                                                  \n",
            " block_2_expand_BN (BatchNo  (None, 32, 32, 144)          576       ['block_2_expand[0][0]']      \n",
            " rmalization)                                                                                     \n",
            "                                                                                                  \n",
            " block_2_expand_relu (ReLU)  (None, 32, 32, 144)          0         ['block_2_expand_BN[0][0]']   \n",
            "                                                                                                  \n",
            " block_2_depthwise (Depthwi  (None, 32, 32, 144)          1296      ['block_2_expand_relu[0][0]'] \n",
            " seConv2D)                                                                                        \n",
            "                                                                                                  \n",
            " block_2_depthwise_BN (Batc  (None, 32, 32, 144)          576       ['block_2_depthwise[0][0]']   \n",
            " hNormalization)                                                                                  \n",
            "                                                                                                  \n",
            " block_2_depthwise_relu (Re  (None, 32, 32, 144)          0         ['block_2_depthwise_BN[0][0]']\n",
            " LU)                                                                                              \n",
            "                                                                                                  \n",
            " block_2_project (Conv2D)    (None, 32, 32, 24)           3456      ['block_2_depthwise_relu[0][0]\n",
            "                                                                    ']                            \n",
            "                                                                                                  \n",
            " block_2_project_BN (BatchN  (None, 32, 32, 24)           96        ['block_2_project[0][0]']     \n",
            " ormalization)                                                                                    \n",
            "                                                                                                  \n",
            " block_2_add (Add)           (None, 32, 32, 24)           0         ['block_1_project_BN[0][0]',  \n",
            "                                                                     'block_2_project_BN[0][0]']  \n",
            "                                                                                                  \n",
            " block_3_expand (Conv2D)     (None, 32, 32, 144)          3456      ['block_2_add[0][0]']         \n",
            "                                                                                                  \n",
            " block_3_expand_BN (BatchNo  (None, 32, 32, 144)          576       ['block_3_expand[0][0]']      \n",
            " rmalization)                                                                                     \n",
            "                                                                                                  \n",
            " block_3_expand_relu (ReLU)  (None, 32, 32, 144)          0         ['block_3_expand_BN[0][0]']   \n",
            "                                                                                                  \n",
            " block_3_pad (ZeroPadding2D  (None, 33, 33, 144)          0         ['block_3_expand_relu[0][0]'] \n",
            " )                                                                                                \n",
            "                                                                                                  \n",
            " block_3_depthwise (Depthwi  (None, 16, 16, 144)          1296      ['block_3_pad[0][0]']         \n",
            " seConv2D)                                                                                        \n",
            "                                                                                                  \n",
            " block_3_depthwise_BN (Batc  (None, 16, 16, 144)          576       ['block_3_depthwise[0][0]']   \n",
            " hNormalization)                                                                                  \n",
            "                                                                                                  \n",
            " block_3_depthwise_relu (Re  (None, 16, 16, 144)          0         ['block_3_depthwise_BN[0][0]']\n",
            " LU)                                                                                              \n",
            "                                                                                                  \n",
            " block_3_project (Conv2D)    (None, 16, 16, 32)           4608      ['block_3_depthwise_relu[0][0]\n",
            "                                                                    ']                            \n",
            "                                                                                                  \n",
            " block_3_project_BN (BatchN  (None, 16, 16, 32)           128       ['block_3_project[0][0]']     \n",
            " ormalization)                                                                                    \n",
            "                                                                                                  \n",
            " block_4_expand (Conv2D)     (None, 16, 16, 192)          6144      ['block_3_project_BN[0][0]']  \n",
            "                                                                                                  \n",
            " block_4_expand_BN (BatchNo  (None, 16, 16, 192)          768       ['block_4_expand[0][0]']      \n",
            " rmalization)                                                                                     \n",
            "                                                                                                  \n",
            " block_4_expand_relu (ReLU)  (None, 16, 16, 192)          0         ['block_4_expand_BN[0][0]']   \n",
            "                                                                                                  \n",
            " block_4_depthwise (Depthwi  (None, 16, 16, 192)          1728      ['block_4_expand_relu[0][0]'] \n",
            " seConv2D)                                                                                        \n",
            "                                                                                                  \n",
            " block_4_depthwise_BN (Batc  (None, 16, 16, 192)          768       ['block_4_depthwise[0][0]']   \n",
            " hNormalization)                                                                                  \n",
            "                                                                                                  \n",
            " block_4_depthwise_relu (Re  (None, 16, 16, 192)          0         ['block_4_depthwise_BN[0][0]']\n",
            " LU)                                                                                              \n",
            "                                                                                                  \n",
            " block_4_project (Conv2D)    (None, 16, 16, 32)           6144      ['block_4_depthwise_relu[0][0]\n",
            "                                                                    ']                            \n",
            "                                                                                                  \n",
            " block_4_project_BN (BatchN  (None, 16, 16, 32)           128       ['block_4_project[0][0]']     \n",
            " ormalization)                                                                                    \n",
            "                                                                                                  \n",
            " block_4_add (Add)           (None, 16, 16, 32)           0         ['block_3_project_BN[0][0]',  \n",
            "                                                                     'block_4_project_BN[0][0]']  \n",
            "                                                                                                  \n",
            " block_5_expand (Conv2D)     (None, 16, 16, 192)          6144      ['block_4_add[0][0]']         \n",
            "                                                                                                  \n",
            " block_5_expand_BN (BatchNo  (None, 16, 16, 192)          768       ['block_5_expand[0][0]']      \n",
            " rmalization)                                                                                     \n",
            "                                                                                                  \n",
            " block_5_expand_relu (ReLU)  (None, 16, 16, 192)          0         ['block_5_expand_BN[0][0]']   \n",
            "                                                                                                  \n",
            " block_5_depthwise (Depthwi  (None, 16, 16, 192)          1728      ['block_5_expand_relu[0][0]'] \n",
            " seConv2D)                                                                                        \n",
            "                                                                                                  \n",
            " block_5_depthwise_BN (Batc  (None, 16, 16, 192)          768       ['block_5_depthwise[0][0]']   \n",
            " hNormalization)                                                                                  \n",
            "                                                                                                  \n",
            " block_5_depthwise_relu (Re  (None, 16, 16, 192)          0         ['block_5_depthwise_BN[0][0]']\n",
            " LU)                                                                                              \n",
            "                                                                                                  \n",
            " block_5_project (Conv2D)    (None, 16, 16, 32)           6144      ['block_5_depthwise_relu[0][0]\n",
            "                                                                    ']                            \n",
            "                                                                                                  \n",
            " block_5_project_BN (BatchN  (None, 16, 16, 32)           128       ['block_5_project[0][0]']     \n",
            " ormalization)                                                                                    \n",
            "                                                                                                  \n",
            " block_5_add (Add)           (None, 16, 16, 32)           0         ['block_4_add[0][0]',         \n",
            "                                                                     'block_5_project_BN[0][0]']  \n",
            "                                                                                                  \n",
            " block_6_expand (Conv2D)     (None, 16, 16, 192)          6144      ['block_5_add[0][0]']         \n",
            "                                                                                                  \n",
            " block_6_expand_BN (BatchNo  (None, 16, 16, 192)          768       ['block_6_expand[0][0]']      \n",
            " rmalization)                                                                                     \n",
            "                                                                                                  \n",
            " block_6_expand_relu (ReLU)  (None, 16, 16, 192)          0         ['block_6_expand_BN[0][0]']   \n",
            "                                                                                                  \n",
            " block_6_pad (ZeroPadding2D  (None, 17, 17, 192)          0         ['block_6_expand_relu[0][0]'] \n",
            " )                                                                                                \n",
            "                                                                                                  \n",
            " block_6_depthwise (Depthwi  (None, 8, 8, 192)            1728      ['block_6_pad[0][0]']         \n",
            " seConv2D)                                                                                        \n",
            "                                                                                                  \n",
            " block_6_depthwise_BN (Batc  (None, 8, 8, 192)            768       ['block_6_depthwise[0][0]']   \n",
            " hNormalization)                                                                                  \n",
            "                                                                                                  \n",
            " block_6_depthwise_relu (Re  (None, 8, 8, 192)            0         ['block_6_depthwise_BN[0][0]']\n",
            " LU)                                                                                              \n",
            "                                                                                                  \n",
            " block_6_project (Conv2D)    (None, 8, 8, 64)             12288     ['block_6_depthwise_relu[0][0]\n",
            "                                                                    ']                            \n",
            "                                                                                                  \n",
            " block_6_project_BN (BatchN  (None, 8, 8, 64)             256       ['block_6_project[0][0]']     \n",
            " ormalization)                                                                                    \n",
            "                                                                                                  \n",
            " block_7_expand (Conv2D)     (None, 8, 8, 384)            24576     ['block_6_project_BN[0][0]']  \n",
            "                                                                                                  \n",
            " block_7_expand_BN (BatchNo  (None, 8, 8, 384)            1536      ['block_7_expand[0][0]']      \n",
            " rmalization)                                                                                     \n",
            "                                                                                                  \n",
            " block_7_expand_relu (ReLU)  (None, 8, 8, 384)            0         ['block_7_expand_BN[0][0]']   \n",
            "                                                                                                  \n",
            " block_7_depthwise (Depthwi  (None, 8, 8, 384)            3456      ['block_7_expand_relu[0][0]'] \n",
            " seConv2D)                                                                                        \n",
            "                                                                                                  \n",
            " block_7_depthwise_BN (Batc  (None, 8, 8, 384)            1536      ['block_7_depthwise[0][0]']   \n",
            " hNormalization)                                                                                  \n",
            "                                                                                                  \n",
            " block_7_depthwise_relu (Re  (None, 8, 8, 384)            0         ['block_7_depthwise_BN[0][0]']\n",
            " LU)                                                                                              \n",
            "                                                                                                  \n",
            " block_7_project (Conv2D)    (None, 8, 8, 64)             24576     ['block_7_depthwise_relu[0][0]\n",
            "                                                                    ']                            \n",
            "                                                                                                  \n",
            " block_7_project_BN (BatchN  (None, 8, 8, 64)             256       ['block_7_project[0][0]']     \n",
            " ormalization)                                                                                    \n",
            "                                                                                                  \n",
            " block_7_add (Add)           (None, 8, 8, 64)             0         ['block_6_project_BN[0][0]',  \n",
            "                                                                     'block_7_project_BN[0][0]']  \n",
            "                                                                                                  \n",
            " block_8_expand (Conv2D)     (None, 8, 8, 384)            24576     ['block_7_add[0][0]']         \n",
            "                                                                                                  \n",
            " block_8_expand_BN (BatchNo  (None, 8, 8, 384)            1536      ['block_8_expand[0][0]']      \n",
            " rmalization)                                                                                     \n",
            "                                                                                                  \n",
            " block_8_expand_relu (ReLU)  (None, 8, 8, 384)            0         ['block_8_expand_BN[0][0]']   \n",
            "                                                                                                  \n",
            " block_8_depthwise (Depthwi  (None, 8, 8, 384)            3456      ['block_8_expand_relu[0][0]'] \n",
            " seConv2D)                                                                                        \n",
            "                                                                                                  \n",
            " block_8_depthwise_BN (Batc  (None, 8, 8, 384)            1536      ['block_8_depthwise[0][0]']   \n",
            " hNormalization)                                                                                  \n",
            "                                                                                                  \n",
            " block_8_depthwise_relu (Re  (None, 8, 8, 384)            0         ['block_8_depthwise_BN[0][0]']\n",
            " LU)                                                                                              \n",
            "                                                                                                  \n",
            " block_8_project (Conv2D)    (None, 8, 8, 64)             24576     ['block_8_depthwise_relu[0][0]\n",
            "                                                                    ']                            \n",
            "                                                                                                  \n",
            " block_8_project_BN (BatchN  (None, 8, 8, 64)             256       ['block_8_project[0][0]']     \n",
            " ormalization)                                                                                    \n",
            "                                                                                                  \n",
            " block_8_add (Add)           (None, 8, 8, 64)             0         ['block_7_add[0][0]',         \n",
            "                                                                     'block_8_project_BN[0][0]']  \n",
            "                                                                                                  \n",
            " block_9_expand (Conv2D)     (None, 8, 8, 384)            24576     ['block_8_add[0][0]']         \n",
            "                                                                                                  \n",
            " block_9_expand_BN (BatchNo  (None, 8, 8, 384)            1536      ['block_9_expand[0][0]']      \n",
            " rmalization)                                                                                     \n",
            "                                                                                                  \n",
            " block_9_expand_relu (ReLU)  (None, 8, 8, 384)            0         ['block_9_expand_BN[0][0]']   \n",
            "                                                                                                  \n",
            " block_9_depthwise (Depthwi  (None, 8, 8, 384)            3456      ['block_9_expand_relu[0][0]'] \n",
            " seConv2D)                                                                                        \n",
            "                                                                                                  \n",
            " block_9_depthwise_BN (Batc  (None, 8, 8, 384)            1536      ['block_9_depthwise[0][0]']   \n",
            " hNormalization)                                                                                  \n",
            "                                                                                                  \n",
            " block_9_depthwise_relu (Re  (None, 8, 8, 384)            0         ['block_9_depthwise_BN[0][0]']\n",
            " LU)                                                                                              \n",
            "                                                                                                  \n",
            " block_9_project (Conv2D)    (None, 8, 8, 64)             24576     ['block_9_depthwise_relu[0][0]\n",
            "                                                                    ']                            \n",
            "                                                                                                  \n",
            " block_9_project_BN (BatchN  (None, 8, 8, 64)             256       ['block_9_project[0][0]']     \n",
            " ormalization)                                                                                    \n",
            "                                                                                                  \n",
            " block_9_add (Add)           (None, 8, 8, 64)             0         ['block_8_add[0][0]',         \n",
            "                                                                     'block_9_project_BN[0][0]']  \n",
            "                                                                                                  \n",
            " block_10_expand (Conv2D)    (None, 8, 8, 384)            24576     ['block_9_add[0][0]']         \n",
            "                                                                                                  \n",
            " block_10_expand_BN (BatchN  (None, 8, 8, 384)            1536      ['block_10_expand[0][0]']     \n",
            " ormalization)                                                                                    \n",
            "                                                                                                  \n",
            " block_10_expand_relu (ReLU  (None, 8, 8, 384)            0         ['block_10_expand_BN[0][0]']  \n",
            " )                                                                                                \n",
            "                                                                                                  \n",
            " block_10_depthwise (Depthw  (None, 8, 8, 384)            3456      ['block_10_expand_relu[0][0]']\n",
            " iseConv2D)                                                                                       \n",
            "                                                                                                  \n",
            " block_10_depthwise_BN (Bat  (None, 8, 8, 384)            1536      ['block_10_depthwise[0][0]']  \n",
            " chNormalization)                                                                                 \n",
            "                                                                                                  \n",
            " block_10_depthwise_relu (R  (None, 8, 8, 384)            0         ['block_10_depthwise_BN[0][0]'\n",
            " eLU)                                                               ]                             \n",
            "                                                                                                  \n",
            " block_10_project (Conv2D)   (None, 8, 8, 96)             36864     ['block_10_depthwise_relu[0][0\n",
            "                                                                    ]']                           \n",
            "                                                                                                  \n",
            " block_10_project_BN (Batch  (None, 8, 8, 96)             384       ['block_10_project[0][0]']    \n",
            " Normalization)                                                                                   \n",
            "                                                                                                  \n",
            " block_11_expand (Conv2D)    (None, 8, 8, 576)            55296     ['block_10_project_BN[0][0]'] \n",
            "                                                                                                  \n",
            " block_11_expand_BN (BatchN  (None, 8, 8, 576)            2304      ['block_11_expand[0][0]']     \n",
            " ormalization)                                                                                    \n",
            "                                                                                                  \n",
            " block_11_expand_relu (ReLU  (None, 8, 8, 576)            0         ['block_11_expand_BN[0][0]']  \n",
            " )                                                                                                \n",
            "                                                                                                  \n",
            " block_11_depthwise (Depthw  (None, 8, 8, 576)            5184      ['block_11_expand_relu[0][0]']\n",
            " iseConv2D)                                                                                       \n",
            "                                                                                                  \n",
            " block_11_depthwise_BN (Bat  (None, 8, 8, 576)            2304      ['block_11_depthwise[0][0]']  \n",
            " chNormalization)                                                                                 \n",
            "                                                                                                  \n",
            " block_11_depthwise_relu (R  (None, 8, 8, 576)            0         ['block_11_depthwise_BN[0][0]'\n",
            " eLU)                                                               ]                             \n",
            "                                                                                                  \n",
            " block_11_project (Conv2D)   (None, 8, 8, 96)             55296     ['block_11_depthwise_relu[0][0\n",
            "                                                                    ]']                           \n",
            "                                                                                                  \n",
            " block_11_project_BN (Batch  (None, 8, 8, 96)             384       ['block_11_project[0][0]']    \n",
            " Normalization)                                                                                   \n",
            "                                                                                                  \n",
            " block_11_add (Add)          (None, 8, 8, 96)             0         ['block_10_project_BN[0][0]', \n",
            "                                                                     'block_11_project_BN[0][0]'] \n",
            "                                                                                                  \n",
            " block_12_expand (Conv2D)    (None, 8, 8, 576)            55296     ['block_11_add[0][0]']        \n",
            "                                                                                                  \n",
            " block_12_expand_BN (BatchN  (None, 8, 8, 576)            2304      ['block_12_expand[0][0]']     \n",
            " ormalization)                                                                                    \n",
            "                                                                                                  \n",
            " block_12_expand_relu (ReLU  (None, 8, 8, 576)            0         ['block_12_expand_BN[0][0]']  \n",
            " )                                                                                                \n",
            "                                                                                                  \n",
            " block_12_depthwise (Depthw  (None, 8, 8, 576)            5184      ['block_12_expand_relu[0][0]']\n",
            " iseConv2D)                                                                                       \n",
            "                                                                                                  \n",
            " block_12_depthwise_BN (Bat  (None, 8, 8, 576)            2304      ['block_12_depthwise[0][0]']  \n",
            " chNormalization)                                                                                 \n",
            "                                                                                                  \n",
            " block_12_depthwise_relu (R  (None, 8, 8, 576)            0         ['block_12_depthwise_BN[0][0]'\n",
            " eLU)                                                               ]                             \n",
            "                                                                                                  \n",
            " block_12_project (Conv2D)   (None, 8, 8, 96)             55296     ['block_12_depthwise_relu[0][0\n",
            "                                                                    ]']                           \n",
            "                                                                                                  \n",
            " block_12_project_BN (Batch  (None, 8, 8, 96)             384       ['block_12_project[0][0]']    \n",
            " Normalization)                                                                                   \n",
            "                                                                                                  \n",
            " block_12_add (Add)          (None, 8, 8, 96)             0         ['block_11_add[0][0]',        \n",
            "                                                                     'block_12_project_BN[0][0]'] \n",
            "                                                                                                  \n",
            " block_13_expand (Conv2D)    (None, 8, 8, 576)            55296     ['block_12_add[0][0]']        \n",
            "                                                                                                  \n",
            " block_13_expand_BN (BatchN  (None, 8, 8, 576)            2304      ['block_13_expand[0][0]']     \n",
            " ormalization)                                                                                    \n",
            "                                                                                                  \n",
            " block_13_expand_relu (ReLU  (None, 8, 8, 576)            0         ['block_13_expand_BN[0][0]']  \n",
            " )                                                                                                \n",
            "                                                                                                  \n",
            " block_13_pad (ZeroPadding2  (None, 9, 9, 576)            0         ['block_13_expand_relu[0][0]']\n",
            " D)                                                                                               \n",
            "                                                                                                  \n",
            " block_13_depthwise (Depthw  (None, 4, 4, 576)            5184      ['block_13_pad[0][0]']        \n",
            " iseConv2D)                                                                                       \n",
            "                                                                                                  \n",
            " block_13_depthwise_BN (Bat  (None, 4, 4, 576)            2304      ['block_13_depthwise[0][0]']  \n",
            " chNormalization)                                                                                 \n",
            "                                                                                                  \n",
            " block_13_depthwise_relu (R  (None, 4, 4, 576)            0         ['block_13_depthwise_BN[0][0]'\n",
            " eLU)                                                               ]                             \n",
            "                                                                                                  \n",
            " block_13_project (Conv2D)   (None, 4, 4, 160)            92160     ['block_13_depthwise_relu[0][0\n",
            "                                                                    ]']                           \n",
            "                                                                                                  \n",
            " block_13_project_BN (Batch  (None, 4, 4, 160)            640       ['block_13_project[0][0]']    \n",
            " Normalization)                                                                                   \n",
            "                                                                                                  \n",
            " block_14_expand (Conv2D)    (None, 4, 4, 960)            153600    ['block_13_project_BN[0][0]'] \n",
            "                                                                                                  \n",
            " block_14_expand_BN (BatchN  (None, 4, 4, 960)            3840      ['block_14_expand[0][0]']     \n",
            " ormalization)                                                                                    \n",
            "                                                                                                  \n",
            " block_14_expand_relu (ReLU  (None, 4, 4, 960)            0         ['block_14_expand_BN[0][0]']  \n",
            " )                                                                                                \n",
            "                                                                                                  \n",
            " block_14_depthwise (Depthw  (None, 4, 4, 960)            8640      ['block_14_expand_relu[0][0]']\n",
            " iseConv2D)                                                                                       \n",
            "                                                                                                  \n",
            " block_14_depthwise_BN (Bat  (None, 4, 4, 960)            3840      ['block_14_depthwise[0][0]']  \n",
            " chNormalization)                                                                                 \n",
            "                                                                                                  \n",
            " block_14_depthwise_relu (R  (None, 4, 4, 960)            0         ['block_14_depthwise_BN[0][0]'\n",
            " eLU)                                                               ]                             \n",
            "                                                                                                  \n",
            " block_14_project (Conv2D)   (None, 4, 4, 160)            153600    ['block_14_depthwise_relu[0][0\n",
            "                                                                    ]']                           \n",
            "                                                                                                  \n",
            " block_14_project_BN (Batch  (None, 4, 4, 160)            640       ['block_14_project[0][0]']    \n",
            " Normalization)                                                                                   \n",
            "                                                                                                  \n",
            " block_14_add (Add)          (None, 4, 4, 160)            0         ['block_13_project_BN[0][0]', \n",
            "                                                                     'block_14_project_BN[0][0]'] \n",
            "                                                                                                  \n",
            " block_15_expand (Conv2D)    (None, 4, 4, 960)            153600    ['block_14_add[0][0]']        \n",
            "                                                                                                  \n",
            " block_15_expand_BN (BatchN  (None, 4, 4, 960)            3840      ['block_15_expand[0][0]']     \n",
            " ormalization)                                                                                    \n",
            "                                                                                                  \n",
            " block_15_expand_relu (ReLU  (None, 4, 4, 960)            0         ['block_15_expand_BN[0][0]']  \n",
            " )                                                                                                \n",
            "                                                                                                  \n",
            " block_15_depthwise (Depthw  (None, 4, 4, 960)            8640      ['block_15_expand_relu[0][0]']\n",
            " iseConv2D)                                                                                       \n",
            "                                                                                                  \n",
            " block_15_depthwise_BN (Bat  (None, 4, 4, 960)            3840      ['block_15_depthwise[0][0]']  \n",
            " chNormalization)                                                                                 \n",
            "                                                                                                  \n",
            " block_15_depthwise_relu (R  (None, 4, 4, 960)            0         ['block_15_depthwise_BN[0][0]'\n",
            " eLU)                                                               ]                             \n",
            "                                                                                                  \n",
            " block_15_project (Conv2D)   (None, 4, 4, 160)            153600    ['block_15_depthwise_relu[0][0\n",
            "                                                                    ]']                           \n",
            "                                                                                                  \n",
            " block_15_project_BN (Batch  (None, 4, 4, 160)            640       ['block_15_project[0][0]']    \n",
            " Normalization)                                                                                   \n",
            "                                                                                                  \n",
            " block_15_add (Add)          (None, 4, 4, 160)            0         ['block_14_add[0][0]',        \n",
            "                                                                     'block_15_project_BN[0][0]'] \n",
            "                                                                                                  \n",
            " block_16_expand (Conv2D)    (None, 4, 4, 960)            153600    ['block_15_add[0][0]']        \n",
            "                                                                                                  \n",
            " block_16_expand_BN (BatchN  (None, 4, 4, 960)            3840      ['block_16_expand[0][0]']     \n",
            " ormalization)                                                                                    \n",
            "                                                                                                  \n",
            " block_16_expand_relu (ReLU  (None, 4, 4, 960)            0         ['block_16_expand_BN[0][0]']  \n",
            " )                                                                                                \n",
            "                                                                                                  \n",
            " block_16_depthwise (Depthw  (None, 4, 4, 960)            8640      ['block_16_expand_relu[0][0]']\n",
            " iseConv2D)                                                                                       \n",
            "                                                                                                  \n",
            " block_16_depthwise_BN (Bat  (None, 4, 4, 960)            3840      ['block_16_depthwise[0][0]']  \n",
            " chNormalization)                                                                                 \n",
            "                                                                                                  \n",
            " block_16_depthwise_relu (R  (None, 4, 4, 960)            0         ['block_16_depthwise_BN[0][0]'\n",
            " eLU)                                                               ]                             \n",
            "                                                                                                  \n",
            " block_16_project (Conv2D)   (None, 4, 4, 320)            307200    ['block_16_depthwise_relu[0][0\n",
            "                                                                    ]']                           \n",
            "                                                                                                  \n",
            " block_16_project_BN (Batch  (None, 4, 4, 320)            1280      ['block_16_project[0][0]']    \n",
            " Normalization)                                                                                   \n",
            "                                                                                                  \n",
            " Conv_1 (Conv2D)             (None, 4, 4, 1280)           409600    ['block_16_project_BN[0][0]'] \n",
            "                                                                                                  \n",
            " Conv_1_bn (BatchNormalizat  (None, 4, 4, 1280)           5120      ['Conv_1[0][0]']              \n",
            " ion)                                                                                             \n",
            "                                                                                                  \n",
            " out_relu (ReLU)             (None, 4, 4, 1280)           0         ['Conv_1_bn[0][0]']           \n",
            "                                                                                                  \n",
            " global_average_pooling2d (  (None, 1280)                 0         ['out_relu[0][0]']            \n",
            " GlobalAveragePooling2D)                                                                          \n",
            "                                                                                                  \n",
            " dense (Dense)               (None, 128)                  163968    ['global_average_pooling2d[0][\n",
            "                                                                    0]']                          \n",
            "                                                                                                  \n",
            " dense_1 (Dense)             (None, 20)                   2580      ['dense[0][0]']               \n",
            "                                                                                                  \n",
            "==================================================================================================\n",
            "Total params: 2424532 (9.25 MB)\n",
            "Trainable params: 2390420 (9.12 MB)\n",
            "Non-trainable params: 34112 (133.25 KB)\n",
            "__________________________________________________________________________________________________\n"
          ]
        }
      ]
    }
  ]
}